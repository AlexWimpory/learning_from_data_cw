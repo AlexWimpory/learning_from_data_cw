{
 "cells": [
  {
   "cell_type": "markdown",
   "metadata": {},
   "source": [
    "# ECMM416DA (Learning From Data) - Coursework"
   ]
  },
  {
   "cell_type": "code",
   "execution_count": 552,
   "metadata": {},
   "outputs": [
    {
     "name": "stderr",
     "output_type": "stream",
     "text": [
      "176987.88s - pydevd: Sending message related to process being replaced timed-out after 5 seconds\n"
     ]
    },
    {
     "name": "stdout",
     "output_type": "stream",
     "text": [
      "Package           Version\n",
      "----------------- -----------\n",
      "appnope           0.1.4\n",
      "asttokens         2.4.1\n",
      "comm              0.2.2\n",
      "contourpy         1.2.1\n",
      "cycler            0.12.1\n",
      "debugpy           1.8.2\n",
      "decorator         5.1.1\n",
      "executing         2.0.1\n",
      "fonttools         4.53.1\n",
      "imbalanced-learn  0.12.3\n",
      "ipykernel         6.29.5\n",
      "ipython           8.26.0\n",
      "jedi              0.19.1\n",
      "joblib            1.4.2\n",
      "jupyter_client    8.6.2\n",
      "jupyter_core      5.7.2\n",
      "kiwisolver        1.4.5\n",
      "matplotlib        3.9.1\n",
      "matplotlib-inline 0.1.7\n",
      "nest-asyncio      1.6.0\n",
      "numpy             2.0.1\n",
      "packaging         24.1\n",
      "pandas            2.2.2\n",
      "parso             0.8.4\n",
      "pexpect           4.9.0\n",
      "pillow            10.4.0\n",
      "pip               24.1.2\n",
      "platformdirs      4.2.2\n",
      "prompt_toolkit    3.0.47\n",
      "psutil            6.0.0\n",
      "ptyprocess        0.7.0\n",
      "pure_eval         0.2.3\n",
      "Pygments          2.18.0\n",
      "pyparsing         3.1.2\n",
      "python-dateutil   2.9.0.post0\n",
      "pytz              2024.1\n",
      "pyzmq             26.0.3\n",
      "scikit-learn      1.5.1\n",
      "scipy             1.14.0\n",
      "seaborn           0.13.2\n",
      "setuptools        65.5.0\n",
      "six               1.16.0\n",
      "stack-data        0.6.3\n",
      "threadpoolctl     3.5.0\n",
      "tornado           6.4.1\n",
      "traitlets         5.14.3\n",
      "typing_extensions 4.12.2\n",
      "tzdata            2024.1\n",
      "wcwidth           0.2.13\n"
     ]
    }
   ],
   "source": [
    "!pip list"
   ]
  },
  {
   "cell_type": "code",
   "execution_count": 553,
   "metadata": {},
   "outputs": [],
   "source": [
    "# All packages used\n",
    "import pandas as pd\n",
    "import numpy as np\n",
    "import matplotlib.pyplot as plt\n",
    "import seaborn as sns\n",
    "from sklearn.model_selection import train_test_split\n",
    "from sklearn.preprocessing import PowerTransformer, LabelEncoder, MinMaxScaler\n",
    "from sklearn.impute import SimpleImputer\n",
    "from sklearn.compose import ColumnTransformer\n",
    "from imblearn.over_sampling import RandomOverSampler"
   ]
  },
  {
   "cell_type": "markdown",
   "metadata": {},
   "source": [
    "For this assignment, the Online Shoppers Purchasing Intention Dataset is investigated.  It is provided as a csv file which is loaded below.\n",
    "\n",
    "There will be overlap between this notebook and the written report as I believe that it is important to tell a story through the processing in the notebook.\n",
    "\n",
    "Research question: Can the purchase intention be predicted using logistic regression or decision tree models?\n",
    "\n",
    "Models: Logistic regression, decision tree"
   ]
  },
  {
   "cell_type": "code",
   "execution_count": 554,
   "metadata": {},
   "outputs": [
    {
     "data": {
      "text/html": [
       "<div>\n",
       "<style scoped>\n",
       "    .dataframe tbody tr th:only-of-type {\n",
       "        vertical-align: middle;\n",
       "    }\n",
       "\n",
       "    .dataframe tbody tr th {\n",
       "        vertical-align: top;\n",
       "    }\n",
       "\n",
       "    .dataframe thead th {\n",
       "        text-align: right;\n",
       "    }\n",
       "</style>\n",
       "<table border=\"1\" class=\"dataframe\">\n",
       "  <thead>\n",
       "    <tr style=\"text-align: right;\">\n",
       "      <th></th>\n",
       "      <th>Administrative</th>\n",
       "      <th>Administrative_Duration</th>\n",
       "      <th>Informational</th>\n",
       "      <th>Informational_Duration</th>\n",
       "      <th>ProductRelated</th>\n",
       "      <th>ProductRelated_Duration</th>\n",
       "      <th>BounceRates</th>\n",
       "      <th>ExitRates</th>\n",
       "      <th>PageValues</th>\n",
       "      <th>SpecialDay</th>\n",
       "      <th>Month</th>\n",
       "      <th>OperatingSystems</th>\n",
       "      <th>Browser</th>\n",
       "      <th>Region</th>\n",
       "      <th>TrafficType</th>\n",
       "      <th>VisitorType</th>\n",
       "      <th>Weekend</th>\n",
       "      <th>Revenue</th>\n",
       "    </tr>\n",
       "  </thead>\n",
       "  <tbody>\n",
       "    <tr>\n",
       "      <th>0</th>\n",
       "      <td>0</td>\n",
       "      <td>0.0</td>\n",
       "      <td>0</td>\n",
       "      <td>0.0</td>\n",
       "      <td>1</td>\n",
       "      <td>0.000000</td>\n",
       "      <td>0.200000</td>\n",
       "      <td>0.200000</td>\n",
       "      <td>0.000000</td>\n",
       "      <td>0.0</td>\n",
       "      <td>Feb</td>\n",
       "      <td>1</td>\n",
       "      <td>1</td>\n",
       "      <td>1</td>\n",
       "      <td>1</td>\n",
       "      <td>Returning_Visitor</td>\n",
       "      <td>False</td>\n",
       "      <td>False</td>\n",
       "    </tr>\n",
       "    <tr>\n",
       "      <th>1</th>\n",
       "      <td>0</td>\n",
       "      <td>0.0</td>\n",
       "      <td>0</td>\n",
       "      <td>0.0</td>\n",
       "      <td>2</td>\n",
       "      <td>64.000000</td>\n",
       "      <td>0.000000</td>\n",
       "      <td>0.100000</td>\n",
       "      <td>0.000000</td>\n",
       "      <td>0.0</td>\n",
       "      <td>Feb</td>\n",
       "      <td>2</td>\n",
       "      <td>2</td>\n",
       "      <td>1</td>\n",
       "      <td>2</td>\n",
       "      <td>Returning_Visitor</td>\n",
       "      <td>False</td>\n",
       "      <td>False</td>\n",
       "    </tr>\n",
       "    <tr>\n",
       "      <th>2</th>\n",
       "      <td>0</td>\n",
       "      <td>0.0</td>\n",
       "      <td>0</td>\n",
       "      <td>0.0</td>\n",
       "      <td>1</td>\n",
       "      <td>0.000000</td>\n",
       "      <td>0.200000</td>\n",
       "      <td>0.200000</td>\n",
       "      <td>0.000000</td>\n",
       "      <td>0.0</td>\n",
       "      <td>Feb</td>\n",
       "      <td>4</td>\n",
       "      <td>1</td>\n",
       "      <td>9</td>\n",
       "      <td>3</td>\n",
       "      <td>Returning_Visitor</td>\n",
       "      <td>False</td>\n",
       "      <td>False</td>\n",
       "    </tr>\n",
       "    <tr>\n",
       "      <th>3</th>\n",
       "      <td>0</td>\n",
       "      <td>0.0</td>\n",
       "      <td>0</td>\n",
       "      <td>0.0</td>\n",
       "      <td>2</td>\n",
       "      <td>2.666667</td>\n",
       "      <td>0.050000</td>\n",
       "      <td>0.140000</td>\n",
       "      <td>0.000000</td>\n",
       "      <td>0.0</td>\n",
       "      <td>Feb</td>\n",
       "      <td>3</td>\n",
       "      <td>2</td>\n",
       "      <td>2</td>\n",
       "      <td>4</td>\n",
       "      <td>Returning_Visitor</td>\n",
       "      <td>False</td>\n",
       "      <td>False</td>\n",
       "    </tr>\n",
       "    <tr>\n",
       "      <th>4</th>\n",
       "      <td>0</td>\n",
       "      <td>0.0</td>\n",
       "      <td>0</td>\n",
       "      <td>0.0</td>\n",
       "      <td>10</td>\n",
       "      <td>627.500000</td>\n",
       "      <td>0.020000</td>\n",
       "      <td>0.050000</td>\n",
       "      <td>0.000000</td>\n",
       "      <td>0.0</td>\n",
       "      <td>Feb</td>\n",
       "      <td>3</td>\n",
       "      <td>3</td>\n",
       "      <td>1</td>\n",
       "      <td>4</td>\n",
       "      <td>Returning_Visitor</td>\n",
       "      <td>True</td>\n",
       "      <td>False</td>\n",
       "    </tr>\n",
       "    <tr>\n",
       "      <th>...</th>\n",
       "      <td>...</td>\n",
       "      <td>...</td>\n",
       "      <td>...</td>\n",
       "      <td>...</td>\n",
       "      <td>...</td>\n",
       "      <td>...</td>\n",
       "      <td>...</td>\n",
       "      <td>...</td>\n",
       "      <td>...</td>\n",
       "      <td>...</td>\n",
       "      <td>...</td>\n",
       "      <td>...</td>\n",
       "      <td>...</td>\n",
       "      <td>...</td>\n",
       "      <td>...</td>\n",
       "      <td>...</td>\n",
       "      <td>...</td>\n",
       "      <td>...</td>\n",
       "    </tr>\n",
       "    <tr>\n",
       "      <th>12325</th>\n",
       "      <td>3</td>\n",
       "      <td>145.0</td>\n",
       "      <td>0</td>\n",
       "      <td>0.0</td>\n",
       "      <td>53</td>\n",
       "      <td>1783.791667</td>\n",
       "      <td>0.007143</td>\n",
       "      <td>0.029031</td>\n",
       "      <td>12.241717</td>\n",
       "      <td>0.0</td>\n",
       "      <td>Dec</td>\n",
       "      <td>4</td>\n",
       "      <td>6</td>\n",
       "      <td>1</td>\n",
       "      <td>1</td>\n",
       "      <td>Returning_Visitor</td>\n",
       "      <td>True</td>\n",
       "      <td>False</td>\n",
       "    </tr>\n",
       "    <tr>\n",
       "      <th>12326</th>\n",
       "      <td>0</td>\n",
       "      <td>0.0</td>\n",
       "      <td>0</td>\n",
       "      <td>0.0</td>\n",
       "      <td>5</td>\n",
       "      <td>465.750000</td>\n",
       "      <td>0.000000</td>\n",
       "      <td>0.021333</td>\n",
       "      <td>0.000000</td>\n",
       "      <td>0.0</td>\n",
       "      <td>Nov</td>\n",
       "      <td>3</td>\n",
       "      <td>2</td>\n",
       "      <td>1</td>\n",
       "      <td>8</td>\n",
       "      <td>Returning_Visitor</td>\n",
       "      <td>True</td>\n",
       "      <td>False</td>\n",
       "    </tr>\n",
       "    <tr>\n",
       "      <th>12327</th>\n",
       "      <td>0</td>\n",
       "      <td>0.0</td>\n",
       "      <td>0</td>\n",
       "      <td>0.0</td>\n",
       "      <td>6</td>\n",
       "      <td>184.250000</td>\n",
       "      <td>0.083333</td>\n",
       "      <td>0.086667</td>\n",
       "      <td>0.000000</td>\n",
       "      <td>0.0</td>\n",
       "      <td>Nov</td>\n",
       "      <td>3</td>\n",
       "      <td>2</td>\n",
       "      <td>1</td>\n",
       "      <td>13</td>\n",
       "      <td>Returning_Visitor</td>\n",
       "      <td>True</td>\n",
       "      <td>False</td>\n",
       "    </tr>\n",
       "    <tr>\n",
       "      <th>12328</th>\n",
       "      <td>4</td>\n",
       "      <td>75.0</td>\n",
       "      <td>0</td>\n",
       "      <td>0.0</td>\n",
       "      <td>15</td>\n",
       "      <td>346.000000</td>\n",
       "      <td>0.000000</td>\n",
       "      <td>0.021053</td>\n",
       "      <td>0.000000</td>\n",
       "      <td>0.0</td>\n",
       "      <td>Nov</td>\n",
       "      <td>2</td>\n",
       "      <td>2</td>\n",
       "      <td>3</td>\n",
       "      <td>11</td>\n",
       "      <td>Returning_Visitor</td>\n",
       "      <td>False</td>\n",
       "      <td>False</td>\n",
       "    </tr>\n",
       "    <tr>\n",
       "      <th>12329</th>\n",
       "      <td>0</td>\n",
       "      <td>0.0</td>\n",
       "      <td>0</td>\n",
       "      <td>0.0</td>\n",
       "      <td>3</td>\n",
       "      <td>21.250000</td>\n",
       "      <td>0.000000</td>\n",
       "      <td>0.066667</td>\n",
       "      <td>0.000000</td>\n",
       "      <td>0.0</td>\n",
       "      <td>Nov</td>\n",
       "      <td>3</td>\n",
       "      <td>2</td>\n",
       "      <td>1</td>\n",
       "      <td>2</td>\n",
       "      <td>New_Visitor</td>\n",
       "      <td>True</td>\n",
       "      <td>False</td>\n",
       "    </tr>\n",
       "  </tbody>\n",
       "</table>\n",
       "<p>12330 rows × 18 columns</p>\n",
       "</div>"
      ],
      "text/plain": [
       "       Administrative  Administrative_Duration  Informational  \\\n",
       "0                   0                      0.0              0   \n",
       "1                   0                      0.0              0   \n",
       "2                   0                      0.0              0   \n",
       "3                   0                      0.0              0   \n",
       "4                   0                      0.0              0   \n",
       "...               ...                      ...            ...   \n",
       "12325               3                    145.0              0   \n",
       "12326               0                      0.0              0   \n",
       "12327               0                      0.0              0   \n",
       "12328               4                     75.0              0   \n",
       "12329               0                      0.0              0   \n",
       "\n",
       "       Informational_Duration  ProductRelated  ProductRelated_Duration  \\\n",
       "0                         0.0               1                 0.000000   \n",
       "1                         0.0               2                64.000000   \n",
       "2                         0.0               1                 0.000000   \n",
       "3                         0.0               2                 2.666667   \n",
       "4                         0.0              10               627.500000   \n",
       "...                       ...             ...                      ...   \n",
       "12325                     0.0              53              1783.791667   \n",
       "12326                     0.0               5               465.750000   \n",
       "12327                     0.0               6               184.250000   \n",
       "12328                     0.0              15               346.000000   \n",
       "12329                     0.0               3                21.250000   \n",
       "\n",
       "       BounceRates  ExitRates  PageValues  SpecialDay Month  OperatingSystems  \\\n",
       "0         0.200000   0.200000    0.000000         0.0   Feb                 1   \n",
       "1         0.000000   0.100000    0.000000         0.0   Feb                 2   \n",
       "2         0.200000   0.200000    0.000000         0.0   Feb                 4   \n",
       "3         0.050000   0.140000    0.000000         0.0   Feb                 3   \n",
       "4         0.020000   0.050000    0.000000         0.0   Feb                 3   \n",
       "...            ...        ...         ...         ...   ...               ...   \n",
       "12325     0.007143   0.029031   12.241717         0.0   Dec                 4   \n",
       "12326     0.000000   0.021333    0.000000         0.0   Nov                 3   \n",
       "12327     0.083333   0.086667    0.000000         0.0   Nov                 3   \n",
       "12328     0.000000   0.021053    0.000000         0.0   Nov                 2   \n",
       "12329     0.000000   0.066667    0.000000         0.0   Nov                 3   \n",
       "\n",
       "       Browser  Region  TrafficType        VisitorType  Weekend  Revenue  \n",
       "0            1       1            1  Returning_Visitor    False    False  \n",
       "1            2       1            2  Returning_Visitor    False    False  \n",
       "2            1       9            3  Returning_Visitor    False    False  \n",
       "3            2       2            4  Returning_Visitor    False    False  \n",
       "4            3       1            4  Returning_Visitor     True    False  \n",
       "...        ...     ...          ...                ...      ...      ...  \n",
       "12325        6       1            1  Returning_Visitor     True    False  \n",
       "12326        2       1            8  Returning_Visitor     True    False  \n",
       "12327        2       1           13  Returning_Visitor     True    False  \n",
       "12328        2       3           11  Returning_Visitor    False    False  \n",
       "12329        2       1            2        New_Visitor     True    False  \n",
       "\n",
       "[12330 rows x 18 columns]"
      ]
     },
     "execution_count": 554,
     "metadata": {},
     "output_type": "execute_result"
    }
   ],
   "source": [
    "data = pd.read_csv('online_shoppers_intention.csv')\n",
    "data"
   ]
  },
  {
   "cell_type": "markdown",
   "metadata": {},
   "source": [
    "## Data Exploration and Cleaning"
   ]
  },
  {
   "cell_type": "markdown",
   "metadata": {},
   "source": [
    "In this section I evaluate each column in the data and decide if it should move on to be processed in the feature engineering section.\n",
    "\n",
    "The data set contains 18 columns related to various aspects of the shoppers behavior:\n",
    "* Administrative\n",
    "* Administrative_Duration\n",
    "* Informational\n",
    "* Informational_Duration\n",
    "* ProductRelated\n",
    "* ProductRelated_Duration\n",
    "* BounceRates\n",
    "* ExitRates\n",
    "* PageValues\n",
    "* SpecialDay\n",
    "* Month\n",
    "* OperatingSystems\n",
    "* Browser\n",
    "* Region\n",
    "* TrafficType\n",
    "* VisitorType\n",
    "* Weekend\n",
    "* Revenue\n",
    "\n",
    "Each of the 12,330 rows represents a single shopping session in which a user has visited the website."
   ]
  },
  {
   "cell_type": "markdown",
   "metadata": {},
   "source": [
    "### Output Classification"
   ]
  },
  {
   "cell_type": "markdown",
   "metadata": {},
   "source": [
    "The column which indicates if there was a purchase in the session is called 'Revenue'."
   ]
  },
  {
   "cell_type": "code",
   "execution_count": 555,
   "metadata": {},
   "outputs": [],
   "source": [
    "def plot_bar(data, column):\n",
    "    total = len(data)\n",
    "\n",
    "    fig, ax = plt.subplots()\n",
    "\n",
    "    sns.countplot(x=column, data=data, ax=ax)\n",
    "    ax.set_xlabel(column)\n",
    "    ax.set_ylabel('Count')\n",
    "\n",
    "    # add annotations\n",
    "    for c in ax.containers:\n",
    "        labels = [f'{h/data[column].count()*100:0.1f}%' if (h := v.get_height()) > 0 else '' for v in c]\n",
    "        ax.bar_label(c, labels=labels, label_type='edge')\n",
    "\n",
    "    plt.show()"
   ]
  },
  {
   "cell_type": "code",
   "execution_count": 556,
   "metadata": {},
   "outputs": [
    {
     "data": {
      "image/png": "[encoded data removed]",
      "text/plain": [
       "<Figure size 640x480 with 1 Axes>"
      ]
     },
     "metadata": {},
     "output_type": "display_data"
    }
   ],
   "source": [
    "plot_bar(data, 'Revenue')"
   ]
  },
  {
   "cell_type": "markdown",
   "metadata": {},
   "source": [
    "As you would expect, the majority of sessions do not have a purchase.  To ensure that any models are trained well, the dataset should be leveled through a process such as over/undersampling."
   ]
  },
  {
   "cell_type": "markdown",
   "metadata": {},
   "source": [
    "### Pages Visited"
   ]
  },
  {
   "cell_type": "markdown",
   "metadata": {},
   "source": [
    "There are 6 columns related to the type of page visited on the website.  Administrative, Informational and ProductRelated are counts for the type of page. Administrative_Duration, Informational_Duration and ProductRelated_Duration are the time spent on each type of page."
   ]
  },
  {
   "cell_type": "markdown",
   "metadata": {},
   "source": [
    "The column pairs such as Administrative and Administrative_Duration are quite similar conceptually, so it is worth checking if there is a correlation between them."
   ]
  },
  {
   "cell_type": "code",
   "execution_count": 557,
   "metadata": {},
   "outputs": [],
   "source": [
    "def print_column_correlation(column_1, column_2):\n",
    "    correlation = data[column_1].corr(data[column_2])\n",
    "    print(f\"{column_1}, {column_2} correlation: \" + str(correlation))"
   ]
  },
  {
   "cell_type": "code",
   "execution_count": 558,
   "metadata": {},
   "outputs": [
    {
     "name": "stdout",
     "output_type": "stream",
     "text": [
      "Administrative, Administrative_Duration correlation: 0.6015833421250232\n",
      "Informational, Informational_Duration correlation: 0.618954861781457\n",
      "ProductRelated, ProductRelated_Duration correlation: 0.8609268361763696\n"
     ]
    }
   ],
   "source": [
    "# Print correlations\n",
    "print_column_correlation('Administrative', 'Administrative_Duration')\n",
    "print_column_correlation('Informational', 'Informational_Duration')\n",
    "print_column_correlation('ProductRelated', 'ProductRelated_Duration')"
   ]
  },
  {
   "cell_type": "code",
   "execution_count": 559,
   "metadata": {},
   "outputs": [],
   "source": [
    "def plot_scatter(data, x_name, x_units, y_name, y_units, mean=False):\n",
    "    x_data = data[x_name]\n",
    "    y_data = data[y_name]\n",
    "\n",
    "    fig = plt.figure()\n",
    "    ax1 = fig.add_subplot()  \n",
    "    ax1.scatter(x_data, y_data, label='Data Points')\n",
    "    if mean:\n",
    "        mean_points = data.groupby(x_name)[y_name].transform('mean')\n",
    "        ax1.scatter(x_data, mean_points, label='Mean')\n",
    "        plt.legend()\n",
    "    ax1.set_xlabel(x_name + ' ' + x_units)\n",
    "    ax1.set_ylabel(y_name + ' ' + y_units)\n",
    "    plt.title(x_name + ' vs ' + y_name)\n",
    "    plt.show()"
   ]
  },
  {
   "cell_type": "code",
   "execution_count": 560,
   "metadata": {},
   "outputs": [
    {
     "data": {
      "image/png": "[encoded data removed]",
      "text/plain": [
       "<Figure size 640x480 with 1 Axes>"
      ]
     },
     "metadata": {},
     "output_type": "display_data"
    },
    {
     "data": {
      "image/png": "[encoded data removed]",
      "text/plain": [
       "<Figure size 640x480 with 1 Axes>"
      ]
     },
     "metadata": {},
     "output_type": "display_data"
    },
    {
     "data": {
      "image/png": "[encoded data removed]",
      "text/plain": [
       "<Figure size 640x480 with 1 Axes>"
      ]
     },
     "metadata": {},
     "output_type": "display_data"
    }
   ],
   "source": [
    "# Data scatter plots with the mean for each x value\n",
    "plot_scatter(data, 'Administrative', '(Num Pages)', 'Administrative_Duration', '(s)',True)\n",
    "plot_scatter(data, 'Informational', '(Num Pages)', 'Informational_Duration', '(s)',True)\n",
    "plot_scatter(data, 'ProductRelated', '(Num Pages)', 'ProductRelated_Duration', '(s)',True)"
   ]
  },
  {
   "cell_type": "markdown",
   "metadata": {},
   "source": [
    "As you would expect from simple intuition there is some correlation between each pair where as the number of pages visited increases, the time spent also increases.  However, the correlation is not strong enough to exclude any columns (would want a value of at least 0.9)."
   ]
  },
  {
   "cell_type": "markdown",
   "metadata": {},
   "source": [
    "Next, the distribution of each column is plotted."
   ]
  },
  {
   "cell_type": "code",
   "execution_count": 561,
   "metadata": {},
   "outputs": [],
   "source": [
    "def plot_2_hist(data, column_1, column_2, bins):\n",
    "    fig, (ax0, ax1) = plt.subplots(figsize=(12, 6), nrows=1, ncols=2)\n",
    "\n",
    "    ax0.hist(data[column_1], bins)\n",
    "    ax1.hist(data[column_2], bins)\n",
    "    ax0.set_xlabel(column_1)\n",
    "    ax0.set_ylabel('Count')\n",
    "    ax1.set_xlabel(column_2)\n",
    "    ax1.set_ylabel('Count')\n",
    "\n",
    "    fig.tight_layout()\n",
    "    plt.show()\n",
    "    print(f'{column_1} skew: ' + str(data[column_1].skew()))\n",
    "    print(f'{column_2} skew: ' + str(data[column_2].skew()))"
   ]
  },
  {
   "cell_type": "code",
   "execution_count": 562,
   "metadata": {},
   "outputs": [
    {
     "data": {
      "image/png": "[encoded data removed]",
      "text/plain": [
       "<Figure size 1200x600 with 2 Axes>"
      ]
     },
     "metadata": {},
     "output_type": "display_data"
    },
    {
     "name": "stdout",
     "output_type": "stream",
     "text": [
      "Administrative skew: 1.9603572090790138\n",
      "Administrative_Duration skew: 5.61571901877419\n"
     ]
    }
   ],
   "source": [
    "plot_2_hist(data, 'Administrative', 'Administrative_Duration', 20)"
   ]
  },
  {
   "cell_type": "code",
   "execution_count": 563,
   "metadata": {},
   "outputs": [
    {
     "data": {
      "image/png": "[encoded data removed]",
      "text/plain": [
       "<Figure size 1200x600 with 2 Axes>"
      ]
     },
     "metadata": {},
     "output_type": "display_data"
    },
    {
     "name": "stdout",
     "output_type": "stream",
     "text": [
      "Informational skew: 4.036463759943139\n",
      "Informational_Duration skew: 7.579184715734214\n"
     ]
    }
   ],
   "source": [
    "plot_2_hist(data, 'Informational', 'Informational_Duration', 20)"
   ]
  },
  {
   "cell_type": "code",
   "execution_count": 564,
   "metadata": {},
   "outputs": [
    {
     "data": {
      "image/png": "[encoded data removed]",
      "text/plain": [
       "<Figure size 1200x600 with 2 Axes>"
      ]
     },
     "metadata": {},
     "output_type": "display_data"
    },
    {
     "name": "stdout",
     "output_type": "stream",
     "text": [
      "ProductRelated skew: 4.341516415550065\n",
      "ProductRelated_Duration skew: 7.263227682561318\n"
     ]
    }
   ],
   "source": [
    "plot_2_hist(data, 'ProductRelated', 'ProductRelated_Duration', 20)"
   ]
  },
  {
   "cell_type": "markdown",
   "metadata": {},
   "source": [
    "It can be seen that all of the columns have a heavy positive skew due to the large number of 0s in each column.\n",
    "\n",
    "Because a large proportion of these columns are 0, logistic regression would likely be a poor method of modelling.  Some transformations could be used to adjust the data to be more normal, but there is not really anything that can be done for the high proportion of 0s.\n",
    "\n",
    "One thing that I could try is splitting the columns into multiple features.  So there would be an is_zero column which is either a True or False.  The other column is the values if the column is not zero, otherwise it would be null.  The nulls are then filled in with some standard method for dealing with nulls when modelling such as filling them with the mean. "
   ]
  },
  {
   "cell_type": "markdown",
   "metadata": {},
   "source": [
    "### Page Behavior"
   ]
  },
  {
   "cell_type": "markdown",
   "metadata": {},
   "source": [
    "There are 3 columns related to page behavior: BounceRates, ExitRates, PageValues.\n",
    "\n",
    "BounceRates = \"the percentage of visitors who enter the site from that page and then leave (\"bounce\") without triggering any other requests to the analytics server during that session.\"\n",
    "\n",
    "ExitRates = \"feature for a specific web page is calculated as for all pageviews to the page, the percentage that were the last in the session.\"\n",
    "\n",
    "PageValues = \"the average value for a web page that a user visited before completing an e-commerce transaction.\""
   ]
  },
  {
   "cell_type": "code",
   "execution_count": 565,
   "metadata": {},
   "outputs": [],
   "source": [
    "def plot_hist(data, column, bins):\n",
    "    data[column].hist(bins=bins)\n",
    "    print(f\"{column} skew: \" + str(data[column].skew()))"
   ]
  },
  {
   "cell_type": "code",
   "execution_count": 566,
   "metadata": {},
   "outputs": [
    {
     "name": "stdout",
     "output_type": "stream",
     "text": [
      "BounceRates skew: 2.947855266695535\n"
     ]
    },
    {
     "data": {
      "image/png": "[encoded data removed]",
      "text/plain": [
       "<Figure size 640x480 with 1 Axes>"
      ]
     },
     "metadata": {},
     "output_type": "display_data"
    }
   ],
   "source": [
    "# plot distribution for Bounce rate\n",
    "plot_hist(data, 'BounceRates', 50)"
   ]
  },
  {
   "cell_type": "code",
   "execution_count": 567,
   "metadata": {},
   "outputs": [
    {
     "name": "stdout",
     "output_type": "stream",
     "text": [
      "ExitRates skew: 2.1487889999009804\n"
     ]
    },
    {
     "data": {
      "image/png": "[encoded data removed]",
      "text/plain": [
       "<Figure size 640x480 with 1 Axes>"
      ]
     },
     "metadata": {},
     "output_type": "display_data"
    }
   ],
   "source": [
    "# plot distribution for Exit rate\n",
    "plot_hist(data, 'ExitRates', 50)\n"
   ]
  },
  {
   "cell_type": "code",
   "execution_count": 568,
   "metadata": {},
   "outputs": [
    {
     "name": "stdout",
     "output_type": "stream",
     "text": [
      "BounceRates, ExitRates correlation: 0.9130043961815202\n"
     ]
    }
   ],
   "source": [
    "print_column_correlation('BounceRates', 'ExitRates')"
   ]
  },
  {
   "cell_type": "markdown",
   "metadata": {},
   "source": [
    "Bounce rate and exit rate are highly correlated (>0.9) therefore only one of the columns will be used.  Exit rate has a better distribution, therefore it will be used and bounce rate will be dropped."
   ]
  },
  {
   "cell_type": "markdown",
   "metadata": {},
   "source": [
    "It is not exactly clear what Page value measures, but if it measures the pages visited until a purchase hase been made, there should only be values for users who have purchased something in the session or who are returning users who have already purchased something."
   ]
  },
  {
   "cell_type": "code",
   "execution_count": 569,
   "metadata": {},
   "outputs": [
    {
     "data": {
      "text/html": [
       "<div>\n",
       "<style scoped>\n",
       "    .dataframe tbody tr th:only-of-type {\n",
       "        vertical-align: middle;\n",
       "    }\n",
       "\n",
       "    .dataframe tbody tr th {\n",
       "        vertical-align: top;\n",
       "    }\n",
       "\n",
       "    .dataframe thead th {\n",
       "        text-align: right;\n",
       "    }\n",
       "</style>\n",
       "<table border=\"1\" class=\"dataframe\">\n",
       "  <thead>\n",
       "    <tr style=\"text-align: right;\">\n",
       "      <th></th>\n",
       "      <th>Administrative</th>\n",
       "      <th>Administrative_Duration</th>\n",
       "      <th>Informational</th>\n",
       "      <th>Informational_Duration</th>\n",
       "      <th>ProductRelated</th>\n",
       "      <th>ProductRelated_Duration</th>\n",
       "      <th>BounceRates</th>\n",
       "      <th>ExitRates</th>\n",
       "      <th>PageValues</th>\n",
       "      <th>SpecialDay</th>\n",
       "      <th>Month</th>\n",
       "      <th>OperatingSystems</th>\n",
       "      <th>Browser</th>\n",
       "      <th>Region</th>\n",
       "      <th>TrafficType</th>\n",
       "      <th>VisitorType</th>\n",
       "      <th>Weekend</th>\n",
       "      <th>Revenue</th>\n",
       "    </tr>\n",
       "  </thead>\n",
       "  <tbody>\n",
       "  </tbody>\n",
       "</table>\n",
       "</div>"
      ],
      "text/plain": [
       "Empty DataFrame\n",
       "Columns: [Administrative, Administrative_Duration, Informational, Informational_Duration, ProductRelated, ProductRelated_Duration, BounceRates, ExitRates, PageValues, SpecialDay, Month, OperatingSystems, Browser, Region, TrafficType, VisitorType, Weekend, Revenue]\n",
       "Index: []"
      ]
     },
     "execution_count": 569,
     "metadata": {},
     "output_type": "execute_result"
    }
   ],
   "source": [
    "page_values = data.loc[data['PageValues'] != 0]\n",
    "new_user_test = page_values.loc[(page_values['VisitorType'] == 'New_Visitor') & (page_values['Revenue'] is False)]\n",
    "new_user_test"
   ]
  },
  {
   "cell_type": "markdown",
   "metadata": {},
   "source": [
    "The test has returned 0 rows, therefore it is safe to assume that this is the meaning of the column.\n",
    "This column is not useful for the question being answered, but can be used to create a new column which indicates whether a user has bought something before."
   ]
  },
  {
   "cell_type": "markdown",
   "metadata": {},
   "source": [
    "### Date"
   ]
  },
  {
   "cell_type": "markdown",
   "metadata": {},
   "source": [
    "There are 3 columns related to dates: SpecialDay, Month and Weekend.\n",
    "\n",
    "SpecialDay = \"indicates the closeness of the site visiting time to a specific special day (e.g. Mother’s Day, Valentine's Day) in which the sessions are more likely to be finalized with transaction.\"\n",
    "\n",
    "Month = the month in which the session took place\n",
    "\n",
    "Weekend = boolean which indicates if a session occurred on the weekend"
   ]
  },
  {
   "cell_type": "markdown",
   "metadata": {},
   "source": [
    "SpecialDay can be the discrete values: 0, 0.2, 0.4, 0.6, 0.8, 1 depending on how close a session is to a holiday.  1 is close to a holiday and 0 is not."
   ]
  },
  {
   "cell_type": "code",
   "execution_count": 570,
   "metadata": {},
   "outputs": [
    {
     "data": {
      "image/png": "[encoded data removed]",
      "text/plain": [
       "<Figure size 640x480 with 1 Axes>"
      ]
     },
     "metadata": {},
     "output_type": "display_data"
    }
   ],
   "source": [
    "# plot distribution for special day\n",
    "plot_bar(data, 'SpecialDay')"
   ]
  },
  {
   "cell_type": "code",
   "execution_count": 571,
   "metadata": {},
   "outputs": [
    {
     "data": {
      "image/png": "[encoded data removed]",
      "text/plain": [
       "<Figure size 640x480 with 1 Axes>"
      ]
     },
     "metadata": {},
     "output_type": "display_data"
    }
   ],
   "source": [
    "# plot distribution for month\n",
    "plot_bar(data, 'Month')"
   ]
  },
  {
   "cell_type": "markdown",
   "metadata": {},
   "source": [
    "There is not a uniform distribution of sessions across the year."
   ]
  },
  {
   "cell_type": "code",
   "execution_count": 572,
   "metadata": {},
   "outputs": [
    {
     "data": {
      "image/png": "[encoded data removed]",
      "text/plain": [
       "<Figure size 640x480 with 1 Axes>"
      ]
     },
     "metadata": {},
     "output_type": "display_data"
    }
   ],
   "source": [
    "# plot distribution for weekend\n",
    "plot_bar(data, 'Weekend')"
   ]
  },
  {
   "cell_type": "markdown",
   "metadata": {},
   "source": [
    "There are less sessions on the weekend in the dataset.  This suggests that the number of sessions on week days and weekends are relatively similar as 5/7 = 71%."
   ]
  },
  {
   "cell_type": "markdown",
   "metadata": {},
   "source": [
    "### Visitor Characteristics"
   ]
  },
  {
   "cell_type": "markdown",
   "metadata": {},
   "source": [
    "There are 5 columns related to visitor characteristics: OperatingSystems, Browser, Region, TrafficType, VisitorType.\n",
    "\n",
    "The first 4 of these are unlikely to have an effect on the purchase prediction and can be excluded.  They are also already numerically encoded with no mapping available, making the information difficult to interpret."
   ]
  },
  {
   "cell_type": "markdown",
   "metadata": {},
   "source": [
    "VisitorType is useful and contains 'Returning_Visitor' or 'New_Visitor'."
   ]
  },
  {
   "cell_type": "code",
   "execution_count": 573,
   "metadata": {},
   "outputs": [
    {
     "data": {
      "image/png": "[encoded data removed]",
      "text/plain": [
       "<Figure size 640x480 with 1 Axes>"
      ]
     },
     "metadata": {},
     "output_type": "display_data"
    }
   ],
   "source": [
    "# plot distribution for visitor type\n",
    "plot_bar(data, 'VisitorType')"
   ]
  },
  {
   "cell_type": "markdown",
   "metadata": {},
   "source": [
    "Looking at the distribution, there is a third category called 'Other'.  It is not clear what this refers to, but it is only a small proportion of the data."
   ]
  },
  {
   "cell_type": "markdown",
   "metadata": {},
   "source": [
    "### Missing Data Check"
   ]
  },
  {
   "cell_type": "markdown",
   "metadata": {},
   "source": [
    "Checking the data to see if there are any missing values."
   ]
  },
  {
   "cell_type": "code",
   "execution_count": 574,
   "metadata": {},
   "outputs": [
    {
     "data": {
      "text/plain": [
       "Administrative             0\n",
       "Administrative_Duration    0\n",
       "Informational              0\n",
       "Informational_Duration     0\n",
       "ProductRelated             0\n",
       "ProductRelated_Duration    0\n",
       "BounceRates                0\n",
       "ExitRates                  0\n",
       "PageValues                 0\n",
       "SpecialDay                 0\n",
       "Month                      0\n",
       "OperatingSystems           0\n",
       "Browser                    0\n",
       "Region                     0\n",
       "TrafficType                0\n",
       "VisitorType                0\n",
       "Weekend                    0\n",
       "Revenue                    0\n",
       "dtype: int64"
      ]
     },
     "execution_count": 574,
     "metadata": {},
     "output_type": "execute_result"
    }
   ],
   "source": [
    "data.isnull().sum()"
   ]
  },
  {
   "cell_type": "markdown",
   "metadata": {},
   "source": [
    "The data does not appear to be missing anything."
   ]
  },
  {
   "cell_type": "markdown",
   "metadata": {},
   "source": [
    "## Feature Engineering"
   ]
  },
  {
   "cell_type": "markdown",
   "metadata": {},
   "source": [
    "Order of changes made:\n",
    "1. Drop unwanted columns\n",
    "2. Generate new columns\n",
    "3. Train, test split\n",
    "4. Fill in nulls\n",
    "5. Transformations\n",
    "6. Category encoding\n",
    "7. Scaling\n",
    "8. Oversampling\n",
    "\n",
    "Ordered in such a way to keep any models completely unaware of the test set."
   ]
  },
  {
   "cell_type": "markdown",
   "metadata": {},
   "source": [
    "### Drop Columns"
   ]
  },
  {
   "cell_type": "markdown",
   "metadata": {},
   "source": [
    "Removing columns that I have no interest in (as defined in the initial investigation)."
   ]
  },
  {
   "cell_type": "code",
   "execution_count": 575,
   "metadata": {},
   "outputs": [],
   "source": [
    "columns_to_drop = ['BounceRates', 'OperatingSystems', 'Browser', 'Region', 'TrafficType']\n",
    "data = data.drop(columns_to_drop, axis=1)"
   ]
  },
  {
   "cell_type": "markdown",
   "metadata": {},
   "source": [
    "### Split Columns"
   ]
  },
  {
   "cell_type": "markdown",
   "metadata": {},
   "source": [
    "As mentioned before, I'm splitting the heavily skewed columns into multiple columns where one is flags if the value is 0 or not and the other contains not 0 values."
   ]
  },
  {
   "cell_type": "code",
   "execution_count": 576,
   "metadata": {},
   "outputs": [
    {
     "name": "stdout",
     "output_type": "stream",
     "text": [
      "['Administrative_is_zero', 'Administrative_Duration_is_zero', 'Informational_is_zero', 'Informational_Duration_is_zero', 'ProductRelated_is_zero', 'ProductRelated_Duration_is_zero']\n",
      "['Administrative_null', 'Administrative_Duration_null', 'Informational_null', 'Informational_Duration_null', 'ProductRelated_null', 'ProductRelated_Duration_null']\n"
     ]
    }
   ],
   "source": [
    "# Columns to split\n",
    "skewed_columns = ['Administrative', 'Administrative_Duration', 'Informational', 'Informational_Duration',\n",
    "                        'ProductRelated', 'ProductRelated_Duration']\n",
    "zero_columns = []\n",
    "null_columns = []\n",
    "for column in skewed_columns:\n",
    "    # 0 flag columns\n",
    "    zero_column_name = column + '_is_zero'\n",
    "    data[zero_column_name] = np.where(data[column] == 0, 1, 0)\n",
    "    zero_columns.append(zero_column_name)\n",
    "    \n",
    "    # Not 0 columns\n",
    "    null_column_name = column + '_null'\n",
    "    data[null_column_name] = np.where(data[column] == 0, None, data[column])\n",
    "    null_columns.append(null_column_name)\n",
    "\n",
    "print(zero_columns)\n",
    "print(null_columns)"
   ]
  },
  {
   "cell_type": "markdown",
   "metadata": {},
   "source": [
    "### Change Page Values Column"
   ]
  },
  {
   "cell_type": "markdown",
   "metadata": {},
   "source": [
    "As mentioned in the data exploration section, page value refers to the time taken until a purchase has been made.  This is converted into 'PurchaseBefore' which is 1 when a returning user has bought something on a previous visit.  Otherwise, it will be 0 (always 0 for new visitors)."
   ]
  },
  {
   "cell_type": "code",
   "execution_count": 577,
   "metadata": {},
   "outputs": [
    {
     "name": "stdout",
     "output_type": "stream",
     "text": [
      "       PageValues        VisitorType  PurchaseBefore\n",
      "0        0.000000  Returning_Visitor               0\n",
      "1        0.000000  Returning_Visitor               0\n",
      "2        0.000000  Returning_Visitor               0\n",
      "3        0.000000  Returning_Visitor               0\n",
      "4        0.000000  Returning_Visitor               0\n",
      "...           ...                ...             ...\n",
      "12325   12.241717  Returning_Visitor               1\n",
      "12326    0.000000  Returning_Visitor               0\n",
      "12327    0.000000  Returning_Visitor               0\n",
      "12328    0.000000  Returning_Visitor               0\n",
      "12329    0.000000        New_Visitor               0\n",
      "\n",
      "[12330 rows x 3 columns]\n"
     ]
    }
   ],
   "source": [
    "# Create and fill new column\n",
    "data['PurchaseBefore'] = 0\n",
    "data.loc[(data['PageValues'] != 0) & (data['VisitorType'] == 'Returning_Visitor'), 'PurchaseBefore'] = 1\n",
    "print(data[['PageValues', 'VisitorType', 'PurchaseBefore']])\n",
    "# Removing PageValues from the data as it is no longer needed\n",
    "data = data.drop(['PageValues'], axis=1)"
   ]
  },
  {
   "cell_type": "markdown",
   "metadata": {},
   "source": [
    "### Train, Test Split"
   ]
  },
  {
   "cell_type": "markdown",
   "metadata": {},
   "source": [
    "Splitting the data into a training and test set (30% of the data for testing)."
   ]
  },
  {
   "cell_type": "code",
   "execution_count": 578,
   "metadata": {},
   "outputs": [],
   "source": [
    "y_name = 'Revenue'\n",
    "X = data.loc[:, data.columns != y_name]\n",
    "y = data[y_name]\n",
    "X_train, X_test, y_train, y_test = train_test_split(X, y, test_size=0.3, random_state=42)\n",
    "# Later I'm uses sklearn to transform the data, but also keep the original columns.  To do this I need to reset he indexes\n",
    "X_train = X_train.reset_index()\n",
    "X_test = X_test.reset_index()        "
   ]
  },
  {
   "cell_type": "markdown",
   "metadata": {},
   "source": [
    "Checking that the split between each binary category is reasonable for the train and test sets."
   ]
  },
  {
   "cell_type": "code",
   "execution_count": 579,
   "metadata": {},
   "outputs": [
    {
     "data": {
      "text/plain": [
       "Revenue\n",
       "False    7298\n",
       "True     1333\n",
       "Name: count, dtype: int64"
      ]
     },
     "execution_count": 579,
     "metadata": {},
     "output_type": "execute_result"
    }
   ],
   "source": [
    "y_train.value_counts()"
   ]
  },
  {
   "cell_type": "code",
   "execution_count": 580,
   "metadata": {},
   "outputs": [
    {
     "data": {
      "text/plain": [
       "Revenue\n",
       "False    3124\n",
       "True      575\n",
       "Name: count, dtype: int64"
      ]
     },
     "execution_count": 580,
     "metadata": {},
     "output_type": "execute_result"
    }
   ],
   "source": [
    "y_test.value_counts()"
   ]
  },
  {
   "cell_type": "markdown",
   "metadata": {},
   "source": [
    "The splits are fine.  18% of the samples in train are purchase sessions and 18% in test."
   ]
  },
  {
   "cell_type": "markdown",
   "metadata": {},
   "source": [
    "### Fill in Nulls"
   ]
  },
  {
   "cell_type": "markdown",
   "metadata": {},
   "source": [
    "Filling in the nulls generated in the previous split columns step with the column's mean."
   ]
  },
  {
   "cell_type": "code",
   "execution_count": 581,
   "metadata": {},
   "outputs": [],
   "source": [
    "imp_mean = SimpleImputer(strategy='mean')\n",
    "imp_mean.fit(X_train[null_columns])\n",
    "\n",
    "imp_trans = ColumnTransformer(transformers=[('imp', SimpleImputer(strategy='mean'), null_columns)])\n",
    "imp_trans.fit(X_train)\n",
    "\n",
    "replace_columns_train = pd.DataFrame(imp_trans.transform(X_train), columns=null_columns)\n",
    "X_train.update(replace_columns_train)\n",
    "\n",
    "replace_columns_test = pd.DataFrame(imp_trans.transform(X_test), columns=null_columns)\n",
    "X_test.update(replace_columns_test)"
   ]
  },
  {
   "cell_type": "code",
   "execution_count": 582,
   "metadata": {},
   "outputs": [
    {
     "data": {
      "text/plain": [
       "index                              0\n",
       "Administrative                     0\n",
       "Administrative_Duration            0\n",
       "Informational                      0\n",
       "Informational_Duration             0\n",
       "ProductRelated                     0\n",
       "ProductRelated_Duration            0\n",
       "ExitRates                          0\n",
       "SpecialDay                         0\n",
       "Month                              0\n",
       "VisitorType                        0\n",
       "Weekend                            0\n",
       "Administrative_is_zero             0\n",
       "Administrative_null                0\n",
       "Administrative_Duration_is_zero    0\n",
       "Administrative_Duration_null       0\n",
       "Informational_is_zero              0\n",
       "Informational_null                 0\n",
       "Informational_Duration_is_zero     0\n",
       "Informational_Duration_null        0\n",
       "ProductRelated_is_zero             0\n",
       "ProductRelated_null                0\n",
       "ProductRelated_Duration_is_zero    0\n",
       "ProductRelated_Duration_null       0\n",
       "PurchaseBefore                     0\n",
       "dtype: int64"
      ]
     },
     "execution_count": 582,
     "metadata": {},
     "output_type": "execute_result"
    }
   ],
   "source": [
    "X_train.isnull().sum()"
   ]
  },
  {
   "cell_type": "markdown",
   "metadata": {},
   "source": [
    "### Transformation"
   ]
  },
  {
   "cell_type": "markdown",
   "metadata": {},
   "source": [
    "I'm also going to use sklearn's power transformer, to see if transforming the data has a positive effect on the logistic regression model.  This is done is such a way to keep the original columns.  This is separate from the previous splitting method."
   ]
  },
  {
   "cell_type": "code",
   "execution_count": 583,
   "metadata": {},
   "outputs": [],
   "source": [
    "def power_transform(transformer, df):\n",
    "    transformed = transformer.transform(df)\n",
    "    transformed = pd.DataFrame(data=transformed, columns=list(df.columns.values))\n",
    "    transformed = transformed.add_suffix('_power')\n",
    "    return transformed"
   ]
  },
  {
   "cell_type": "code",
   "execution_count": 584,
   "metadata": {},
   "outputs": [
    {
     "data": {
      "text/html": [
       "<div>\n",
       "<style scoped>\n",
       "    .dataframe tbody tr th:only-of-type {\n",
       "        vertical-align: middle;\n",
       "    }\n",
       "\n",
       "    .dataframe tbody tr th {\n",
       "        vertical-align: top;\n",
       "    }\n",
       "\n",
       "    .dataframe thead th {\n",
       "        text-align: right;\n",
       "    }\n",
       "</style>\n",
       "<table border=\"1\" class=\"dataframe\">\n",
       "  <thead>\n",
       "    <tr style=\"text-align: right;\">\n",
       "      <th></th>\n",
       "      <th>Administrative_power</th>\n",
       "      <th>Administrative_Duration_power</th>\n",
       "      <th>Informational_power</th>\n",
       "      <th>Informational_Duration_power</th>\n",
       "      <th>ProductRelated_power</th>\n",
       "      <th>ProductRelated_Duration_power</th>\n",
       "    </tr>\n",
       "  </thead>\n",
       "  <tbody>\n",
       "    <tr>\n",
       "      <th>0</th>\n",
       "      <td>-0.992234</td>\n",
       "      <td>-0.997760</td>\n",
       "      <td>-0.520894</td>\n",
       "      <td>-0.491963</td>\n",
       "      <td>-0.988542</td>\n",
       "      <td>-1.000841</td>\n",
       "    </tr>\n",
       "    <tr>\n",
       "      <th>1</th>\n",
       "      <td>-0.992234</td>\n",
       "      <td>-0.997760</td>\n",
       "      <td>-0.520894</td>\n",
       "      <td>-0.491963</td>\n",
       "      <td>-1.344672</td>\n",
       "      <td>-0.626716</td>\n",
       "    </tr>\n",
       "    <tr>\n",
       "      <th>2</th>\n",
       "      <td>-0.992234</td>\n",
       "      <td>-0.997760</td>\n",
       "      <td>1.818108</td>\n",
       "      <td>2.076578</td>\n",
       "      <td>-0.629949</td>\n",
       "      <td>-0.164762</td>\n",
       "    </tr>\n",
       "    <tr>\n",
       "      <th>3</th>\n",
       "      <td>-0.992234</td>\n",
       "      <td>-0.997760</td>\n",
       "      <td>-0.520894</td>\n",
       "      <td>-0.491963</td>\n",
       "      <td>-1.344672</td>\n",
       "      <td>-2.121472</td>\n",
       "    </tr>\n",
       "    <tr>\n",
       "      <th>4</th>\n",
       "      <td>-0.992234</td>\n",
       "      <td>-0.997760</td>\n",
       "      <td>-0.520894</td>\n",
       "      <td>-0.491963</td>\n",
       "      <td>-1.148983</td>\n",
       "      <td>-1.569678</td>\n",
       "    </tr>\n",
       "    <tr>\n",
       "      <th>...</th>\n",
       "      <td>...</td>\n",
       "      <td>...</td>\n",
       "      <td>...</td>\n",
       "      <td>...</td>\n",
       "      <td>...</td>\n",
       "      <td>...</td>\n",
       "    </tr>\n",
       "    <tr>\n",
       "      <th>8626</th>\n",
       "      <td>1.725803</td>\n",
       "      <td>1.694581</td>\n",
       "      <td>-0.520894</td>\n",
       "      <td>-0.491963</td>\n",
       "      <td>0.320057</td>\n",
       "      <td>0.149277</td>\n",
       "    </tr>\n",
       "    <tr>\n",
       "      <th>8627</th>\n",
       "      <td>-0.992234</td>\n",
       "      <td>-0.997760</td>\n",
       "      <td>-0.520894</td>\n",
       "      <td>-0.491963</td>\n",
       "      <td>-0.174644</td>\n",
       "      <td>-0.319954</td>\n",
       "    </tr>\n",
       "    <tr>\n",
       "      <th>8628</th>\n",
       "      <td>-0.992234</td>\n",
       "      <td>-0.997760</td>\n",
       "      <td>-0.520894</td>\n",
       "      <td>-0.491963</td>\n",
       "      <td>-1.344672</td>\n",
       "      <td>-0.626716</td>\n",
       "    </tr>\n",
       "    <tr>\n",
       "      <th>8629</th>\n",
       "      <td>-0.992234</td>\n",
       "      <td>-0.997760</td>\n",
       "      <td>-0.520894</td>\n",
       "      <td>-0.491963</td>\n",
       "      <td>-0.236370</td>\n",
       "      <td>-0.379907</td>\n",
       "    </tr>\n",
       "    <tr>\n",
       "      <th>8630</th>\n",
       "      <td>1.381036</td>\n",
       "      <td>1.110607</td>\n",
       "      <td>-0.520894</td>\n",
       "      <td>-0.491963</td>\n",
       "      <td>-0.536363</td>\n",
       "      <td>-0.523671</td>\n",
       "    </tr>\n",
       "  </tbody>\n",
       "</table>\n",
       "<p>8631 rows × 6 columns</p>\n",
       "</div>"
      ],
      "text/plain": [
       "      Administrative_power  Administrative_Duration_power  \\\n",
       "0                -0.992234                      -0.997760   \n",
       "1                -0.992234                      -0.997760   \n",
       "2                -0.992234                      -0.997760   \n",
       "3                -0.992234                      -0.997760   \n",
       "4                -0.992234                      -0.997760   \n",
       "...                    ...                            ...   \n",
       "8626              1.725803                       1.694581   \n",
       "8627             -0.992234                      -0.997760   \n",
       "8628             -0.992234                      -0.997760   \n",
       "8629             -0.992234                      -0.997760   \n",
       "8630              1.381036                       1.110607   \n",
       "\n",
       "      Informational_power  Informational_Duration_power  ProductRelated_power  \\\n",
       "0               -0.520894                     -0.491963             -0.988542   \n",
       "1               -0.520894                     -0.491963             -1.344672   \n",
       "2                1.818108                      2.076578             -0.629949   \n",
       "3               -0.520894                     -0.491963             -1.344672   \n",
       "4               -0.520894                     -0.491963             -1.148983   \n",
       "...                   ...                           ...                   ...   \n",
       "8626            -0.520894                     -0.491963              0.320057   \n",
       "8627            -0.520894                     -0.491963             -0.174644   \n",
       "8628            -0.520894                     -0.491963             -1.344672   \n",
       "8629            -0.520894                     -0.491963             -0.236370   \n",
       "8630            -0.520894                     -0.491963             -0.536363   \n",
       "\n",
       "      ProductRelated_Duration_power  \n",
       "0                         -1.000841  \n",
       "1                         -0.626716  \n",
       "2                         -0.164762  \n",
       "3                         -2.121472  \n",
       "4                         -1.569678  \n",
       "...                             ...  \n",
       "8626                       0.149277  \n",
       "8627                      -0.319954  \n",
       "8628                      -0.626716  \n",
       "8629                      -0.379907  \n",
       "8630                      -0.523671  \n",
       "\n",
       "[8631 rows x 6 columns]"
      ]
     },
     "execution_count": 584,
     "metadata": {},
     "output_type": "execute_result"
    }
   ],
   "source": [
    "# Create and fit power transformer\n",
    "power_transformer = PowerTransformer(method='yeo-johnson', standardize=True)\n",
    "power_transformer.fit_transform(X_train[skewed_columns])\n",
    "# Transform training set\n",
    "train_transformed = power_transform(power_transformer, X_train[skewed_columns])\n",
    "\n",
    "power_columns = list(train_transformed.columns.values)\n",
    "train_transformed"
   ]
  },
  {
   "cell_type": "markdown",
   "metadata": {},
   "source": [
    "As can be seen from the plot below, the transformer has made the data more normally distributed, but of course the large proportion of 0s which are now -1s remain."
   ]
  },
  {
   "cell_type": "code",
   "execution_count": 585,
   "metadata": {},
   "outputs": [
    {
     "data": {
      "image/png": "[encoded data removed]",
      "text/plain": [
       "<Figure size 1200x600 with 2 Axes>"
      ]
     },
     "metadata": {},
     "output_type": "display_data"
    },
    {
     "name": "stdout",
     "output_type": "stream",
     "text": [
      "Administrative_power skew: 0.2401984799195235\n",
      "Administrative_Duration_power skew: 0.14417600723096338\n"
     ]
    }
   ],
   "source": [
    "plot_2_hist(train_transformed, 'Administrative_power', 'Administrative_Duration_power', 20)"
   ]
  },
  {
   "cell_type": "code",
   "execution_count": 586,
   "metadata": {},
   "outputs": [],
   "source": [
    "# Can merge because the transform maintains order (which is why I reset the indexes earlier)\n",
    "X_train = X_train.merge(train_transformed, left_index=True, right_index=True)\n",
    "\n",
    "# Repeat for test set, using the same transformer\n",
    "test_transformed = power_transform(power_transformer, X_test[skewed_columns])\n",
    "X_test = X_test.merge(test_transformed, left_index=True, right_index=True)\n"
   ]
  },
  {
   "cell_type": "markdown",
   "metadata": {},
   "source": [
    "### Encoding Categories"
   ]
  },
  {
   "cell_type": "markdown",
   "metadata": {},
   "source": [
    "The categorical input features are encoded using integer encoding."
   ]
  },
  {
   "cell_type": "code",
   "execution_count": 587,
   "metadata": {},
   "outputs": [],
   "source": [
    "# Class which allows the encoder to operate on multiple columns at once\n",
    "class MultiColumnLabelEncoder:\n",
    "    def __init__(self,columns = None):\n",
    "        self.columns = columns\n",
    "\n",
    "    def fit(self,X,y=None):\n",
    "        return self\n",
    "\n",
    "    def transform(self,X):\n",
    "        '''\n",
    "        Transforms columns of X specified in self.columns using\n",
    "        LabelEncoder(). If no columns specified, transforms all\n",
    "        columns in X.\n",
    "        '''\n",
    "        output = X.copy()\n",
    "        if self.columns is not None:\n",
    "            for col in self.columns:\n",
    "                output[col] = LabelEncoder().fit_transform(output[col])\n",
    "        else:\n",
    "            for colname,col in output.iteritems():\n",
    "                output[colname] = LabelEncoder().fit_transform(col)\n",
    "        return output\n",
    "    \n",
    "    def fit_transform(self,X,y=None):\n",
    "        return self.fit(X,y).transform(X)"
   ]
  },
  {
   "cell_type": "code",
   "execution_count": 588,
   "metadata": {},
   "outputs": [],
   "source": [
    "# Columns to encode\n",
    "category_columns = ['Month', 'Weekend', 'VisitorType']\n",
    "input_encoder = MultiColumnLabelEncoder(category_columns)\n",
    "# Fit encoder and transform on the training set\n",
    "X_train = input_encoder.fit_transform(X_train)\n",
    "# Transform the test set\n",
    "X_test = input_encoder.transform(X_test)"
   ]
  },
  {
   "cell_type": "markdown",
   "metadata": {},
   "source": [
    "Creating another encoder which operates on the output (Revenue)."
   ]
  },
  {
   "cell_type": "code",
   "execution_count": 589,
   "metadata": {},
   "outputs": [],
   "source": [
    "output_encoder = LabelEncoder().fit(y_train)\n",
    "y_train = output_encoder.transform(y_train)\n",
    "y_test = output_encoder.transform(y_test)"
   ]
  },
  {
   "cell_type": "markdown",
   "metadata": {},
   "source": [
    "### Scaling"
   ]
  },
  {
   "cell_type": "markdown",
   "metadata": {},
   "source": [
    "Scaling everything to be between 1 and 0 so that no columns dominate in any models because of their size."
   ]
  },
  {
   "cell_type": "code",
   "execution_count": 590,
   "metadata": {},
   "outputs": [],
   "source": [
    "# Fit scaler on training set and then transform\n",
    "min_max_scaler = MinMaxScaler().fit(X_train)\n",
    "X_train[X_train.columns] = pd.DataFrame(min_max_scaler.transform(X_train[X_train.columns]))\n",
    "X_train = X_train.drop(['index'], axis=1)\n",
    "\n",
    "# Scale the test set\n",
    "X_test[X_test.columns] = pd.DataFrame(min_max_scaler.transform(X_test[X_test.columns]))\n",
    "X_test = X_test.drop(['index'], axis=1)\n"
   ]
  },
  {
   "cell_type": "code",
   "execution_count": 591,
   "metadata": {},
   "outputs": [
    {
     "data": {
      "text/html": [
       "<div>\n",
       "<style scoped>\n",
       "    .dataframe tbody tr th:only-of-type {\n",
       "        vertical-align: middle;\n",
       "    }\n",
       "\n",
       "    .dataframe tbody tr th {\n",
       "        vertical-align: top;\n",
       "    }\n",
       "\n",
       "    .dataframe thead th {\n",
       "        text-align: right;\n",
       "    }\n",
       "</style>\n",
       "<table border=\"1\" class=\"dataframe\">\n",
       "  <thead>\n",
       "    <tr style=\"text-align: right;\">\n",
       "      <th></th>\n",
       "      <th>Administrative</th>\n",
       "      <th>Administrative_Duration</th>\n",
       "      <th>Informational</th>\n",
       "      <th>Informational_Duration</th>\n",
       "      <th>ProductRelated</th>\n",
       "      <th>ProductRelated_Duration</th>\n",
       "      <th>ExitRates</th>\n",
       "      <th>SpecialDay</th>\n",
       "      <th>Month</th>\n",
       "      <th>VisitorType</th>\n",
       "      <th>...</th>\n",
       "      <th>ProductRelated_null</th>\n",
       "      <th>ProductRelated_Duration_is_zero</th>\n",
       "      <th>ProductRelated_Duration_null</th>\n",
       "      <th>PurchaseBefore</th>\n",
       "      <th>Administrative_power</th>\n",
       "      <th>Administrative_Duration_power</th>\n",
       "      <th>Informational_power</th>\n",
       "      <th>Informational_Duration_power</th>\n",
       "      <th>ProductRelated_power</th>\n",
       "      <th>ProductRelated_Duration_power</th>\n",
       "    </tr>\n",
       "  </thead>\n",
       "  <tbody>\n",
       "    <tr>\n",
       "      <th>0</th>\n",
       "      <td>0.111111</td>\n",
       "      <td>0.052380</td>\n",
       "      <td>0.000000</td>\n",
       "      <td>0.000000</td>\n",
       "      <td>0.068085</td>\n",
       "      <td>0.024374</td>\n",
       "      <td>0.065217</td>\n",
       "      <td>0.0</td>\n",
       "      <td>0.777778</td>\n",
       "      <td>1.0</td>\n",
       "      <td>...</td>\n",
       "      <td>0.066761</td>\n",
       "      <td>0.0</td>\n",
       "      <td>0.024351</td>\n",
       "      <td>0.0</td>\n",
       "      <td>0.620286</td>\n",
       "      <td>0.719721</td>\n",
       "      <td>0.000000</td>\n",
       "      <td>0.000000</td>\n",
       "      <td>0.579808</td>\n",
       "      <td>0.372207</td>\n",
       "    </tr>\n",
       "    <tr>\n",
       "      <th>1</th>\n",
       "      <td>0.222222</td>\n",
       "      <td>0.160776</td>\n",
       "      <td>0.083333</td>\n",
       "      <td>0.107297</td>\n",
       "      <td>0.117730</td>\n",
       "      <td>0.057999</td>\n",
       "      <td>0.024581</td>\n",
       "      <td>0.0</td>\n",
       "      <td>0.555556</td>\n",
       "      <td>1.0</td>\n",
       "      <td>...</td>\n",
       "      <td>0.116477</td>\n",
       "      <td>0.0</td>\n",
       "      <td>0.057977</td>\n",
       "      <td>1.0</td>\n",
       "      <td>0.770103</td>\n",
       "      <td>0.836327</td>\n",
       "      <td>0.984314</td>\n",
       "      <td>0.997803</td>\n",
       "      <td>0.663175</td>\n",
       "      <td>0.474886</td>\n",
       "    </tr>\n",
       "    <tr>\n",
       "      <th>2</th>\n",
       "      <td>0.037037</td>\n",
       "      <td>0.015117</td>\n",
       "      <td>0.000000</td>\n",
       "      <td>0.000000</td>\n",
       "      <td>0.178723</td>\n",
       "      <td>0.099835</td>\n",
       "      <td>0.064114</td>\n",
       "      <td>0.0</td>\n",
       "      <td>0.777778</td>\n",
       "      <td>1.0</td>\n",
       "      <td>...</td>\n",
       "      <td>0.177557</td>\n",
       "      <td>0.0</td>\n",
       "      <td>0.099814</td>\n",
       "      <td>1.0</td>\n",
       "      <td>0.364405</td>\n",
       "      <td>0.575097</td>\n",
       "      <td>0.000000</td>\n",
       "      <td>0.000000</td>\n",
       "      <td>0.727630</td>\n",
       "      <td>0.550454</td>\n",
       "    </tr>\n",
       "    <tr>\n",
       "      <th>3</th>\n",
       "      <td>0.074074</td>\n",
       "      <td>0.051829</td>\n",
       "      <td>0.000000</td>\n",
       "      <td>0.000000</td>\n",
       "      <td>0.014184</td>\n",
       "      <td>0.014053</td>\n",
       "      <td>0.131944</td>\n",
       "      <td>0.0</td>\n",
       "      <td>0.000000</td>\n",
       "      <td>1.0</td>\n",
       "      <td>...</td>\n",
       "      <td>0.012784</td>\n",
       "      <td>0.0</td>\n",
       "      <td>0.014030</td>\n",
       "      <td>1.0</td>\n",
       "      <td>0.524931</td>\n",
       "      <td>0.718558</td>\n",
       "      <td>0.000000</td>\n",
       "      <td>0.000000</td>\n",
       "      <td>0.352696</td>\n",
       "      <td>0.316856</td>\n",
       "    </tr>\n",
       "    <tr>\n",
       "      <th>4</th>\n",
       "      <td>0.666667</td>\n",
       "      <td>0.223540</td>\n",
       "      <td>0.250000</td>\n",
       "      <td>0.334260</td>\n",
       "      <td>0.238298</td>\n",
       "      <td>0.114623</td>\n",
       "      <td>0.067638</td>\n",
       "      <td>0.0</td>\n",
       "      <td>0.000000</td>\n",
       "      <td>1.0</td>\n",
       "      <td>...</td>\n",
       "      <td>0.237216</td>\n",
       "      <td>0.0</td>\n",
       "      <td>0.114602</td>\n",
       "      <td>1.0</td>\n",
       "      <td>0.951096</td>\n",
       "      <td>0.868161</td>\n",
       "      <td>0.999368</td>\n",
       "      <td>0.999518</td>\n",
       "      <td>0.772445</td>\n",
       "      <td>0.571226</td>\n",
       "    </tr>\n",
       "    <tr>\n",
       "      <th>...</th>\n",
       "      <td>...</td>\n",
       "      <td>...</td>\n",
       "      <td>...</td>\n",
       "      <td>...</td>\n",
       "      <td>...</td>\n",
       "      <td>...</td>\n",
       "      <td>...</td>\n",
       "      <td>...</td>\n",
       "      <td>...</td>\n",
       "      <td>...</td>\n",
       "      <td>...</td>\n",
       "      <td>...</td>\n",
       "      <td>...</td>\n",
       "      <td>...</td>\n",
       "      <td>...</td>\n",
       "      <td>...</td>\n",
       "      <td>...</td>\n",
       "      <td>...</td>\n",
       "      <td>...</td>\n",
       "      <td>...</td>\n",
       "      <td>...</td>\n",
       "    </tr>\n",
       "    <tr>\n",
       "      <th>3694</th>\n",
       "      <td>0.000000</td>\n",
       "      <td>0.000000</td>\n",
       "      <td>0.000000</td>\n",
       "      <td>0.000000</td>\n",
       "      <td>0.017021</td>\n",
       "      <td>0.026993</td>\n",
       "      <td>0.215278</td>\n",
       "      <td>0.0</td>\n",
       "      <td>0.555556</td>\n",
       "      <td>1.0</td>\n",
       "      <td>...</td>\n",
       "      <td>0.015625</td>\n",
       "      <td>0.0</td>\n",
       "      <td>0.026971</td>\n",
       "      <td>0.0</td>\n",
       "      <td>0.000000</td>\n",
       "      <td>0.000000</td>\n",
       "      <td>0.000000</td>\n",
       "      <td>0.000000</td>\n",
       "      <td>0.377807</td>\n",
       "      <td>0.383260</td>\n",
       "    </tr>\n",
       "    <tr>\n",
       "      <th>3695</th>\n",
       "      <td>0.074074</td>\n",
       "      <td>0.012939</td>\n",
       "      <td>0.083333</td>\n",
       "      <td>0.045005</td>\n",
       "      <td>0.119149</td>\n",
       "      <td>0.193777</td>\n",
       "      <td>0.186047</td>\n",
       "      <td>0.0</td>\n",
       "      <td>1.000000</td>\n",
       "      <td>1.0</td>\n",
       "      <td>...</td>\n",
       "      <td>0.117898</td>\n",
       "      <td>0.0</td>\n",
       "      <td>0.193759</td>\n",
       "      <td>0.0</td>\n",
       "      <td>0.524931</td>\n",
       "      <td>0.555893</td>\n",
       "      <td>0.984314</td>\n",
       "      <td>0.993979</td>\n",
       "      <td>0.665014</td>\n",
       "      <td>0.656482</td>\n",
       "    </tr>\n",
       "    <tr>\n",
       "      <th>3696</th>\n",
       "      <td>0.000000</td>\n",
       "      <td>0.000000</td>\n",
       "      <td>0.000000</td>\n",
       "      <td>0.000000</td>\n",
       "      <td>0.014184</td>\n",
       "      <td>0.004552</td>\n",
       "      <td>0.333333</td>\n",
       "      <td>0.6</td>\n",
       "      <td>0.666667</td>\n",
       "      <td>1.0</td>\n",
       "      <td>...</td>\n",
       "      <td>0.012784</td>\n",
       "      <td>0.0</td>\n",
       "      <td>0.004529</td>\n",
       "      <td>0.0</td>\n",
       "      <td>0.000000</td>\n",
       "      <td>0.000000</td>\n",
       "      <td>0.000000</td>\n",
       "      <td>0.000000</td>\n",
       "      <td>0.352696</td>\n",
       "      <td>0.223326</td>\n",
       "    </tr>\n",
       "    <tr>\n",
       "      <th>3697</th>\n",
       "      <td>0.037037</td>\n",
       "      <td>0.008528</td>\n",
       "      <td>0.000000</td>\n",
       "      <td>0.000000</td>\n",
       "      <td>0.042553</td>\n",
       "      <td>0.022340</td>\n",
       "      <td>0.017857</td>\n",
       "      <td>0.0</td>\n",
       "      <td>0.888889</td>\n",
       "      <td>0.0</td>\n",
       "      <td>...</td>\n",
       "      <td>0.041193</td>\n",
       "      <td>0.0</td>\n",
       "      <td>0.022318</td>\n",
       "      <td>0.0</td>\n",
       "      <td>0.364405</td>\n",
       "      <td>0.503372</td>\n",
       "      <td>0.000000</td>\n",
       "      <td>0.000000</td>\n",
       "      <td>0.509593</td>\n",
       "      <td>0.362977</td>\n",
       "    </tr>\n",
       "    <tr>\n",
       "      <th>3698</th>\n",
       "      <td>0.037037</td>\n",
       "      <td>0.005514</td>\n",
       "      <td>0.041667</td>\n",
       "      <td>0.001822</td>\n",
       "      <td>0.069504</td>\n",
       "      <td>0.016478</td>\n",
       "      <td>0.010204</td>\n",
       "      <td>0.0</td>\n",
       "      <td>0.111111</td>\n",
       "      <td>0.0</td>\n",
       "      <td>...</td>\n",
       "      <td>0.068182</td>\n",
       "      <td>0.0</td>\n",
       "      <td>0.016455</td>\n",
       "      <td>0.0</td>\n",
       "      <td>0.364405</td>\n",
       "      <td>0.447062</td>\n",
       "      <td>0.927297</td>\n",
       "      <td>0.830828</td>\n",
       "      <td>0.582919</td>\n",
       "      <td>0.332142</td>\n",
       "    </tr>\n",
       "  </tbody>\n",
       "</table>\n",
       "<p>3699 rows × 30 columns</p>\n",
       "</div>"
      ],
      "text/plain": [
       "      Administrative  Administrative_Duration  Informational  \\\n",
       "0           0.111111                 0.052380       0.000000   \n",
       "1           0.222222                 0.160776       0.083333   \n",
       "2           0.037037                 0.015117       0.000000   \n",
       "3           0.074074                 0.051829       0.000000   \n",
       "4           0.666667                 0.223540       0.250000   \n",
       "...              ...                      ...            ...   \n",
       "3694        0.000000                 0.000000       0.000000   \n",
       "3695        0.074074                 0.012939       0.083333   \n",
       "3696        0.000000                 0.000000       0.000000   \n",
       "3697        0.037037                 0.008528       0.000000   \n",
       "3698        0.037037                 0.005514       0.041667   \n",
       "\n",
       "      Informational_Duration  ProductRelated  ProductRelated_Duration  \\\n",
       "0                   0.000000        0.068085                 0.024374   \n",
       "1                   0.107297        0.117730                 0.057999   \n",
       "2                   0.000000        0.178723                 0.099835   \n",
       "3                   0.000000        0.014184                 0.014053   \n",
       "4                   0.334260        0.238298                 0.114623   \n",
       "...                      ...             ...                      ...   \n",
       "3694                0.000000        0.017021                 0.026993   \n",
       "3695                0.045005        0.119149                 0.193777   \n",
       "3696                0.000000        0.014184                 0.004552   \n",
       "3697                0.000000        0.042553                 0.022340   \n",
       "3698                0.001822        0.069504                 0.016478   \n",
       "\n",
       "      ExitRates  SpecialDay     Month  VisitorType  ...  ProductRelated_null  \\\n",
       "0      0.065217         0.0  0.777778          1.0  ...             0.066761   \n",
       "1      0.024581         0.0  0.555556          1.0  ...             0.116477   \n",
       "2      0.064114         0.0  0.777778          1.0  ...             0.177557   \n",
       "3      0.131944         0.0  0.000000          1.0  ...             0.012784   \n",
       "4      0.067638         0.0  0.000000          1.0  ...             0.237216   \n",
       "...         ...         ...       ...          ...  ...                  ...   \n",
       "3694   0.215278         0.0  0.555556          1.0  ...             0.015625   \n",
       "3695   0.186047         0.0  1.000000          1.0  ...             0.117898   \n",
       "3696   0.333333         0.6  0.666667          1.0  ...             0.012784   \n",
       "3697   0.017857         0.0  0.888889          0.0  ...             0.041193   \n",
       "3698   0.010204         0.0  0.111111          0.0  ...             0.068182   \n",
       "\n",
       "      ProductRelated_Duration_is_zero  ProductRelated_Duration_null  \\\n",
       "0                                 0.0                      0.024351   \n",
       "1                                 0.0                      0.057977   \n",
       "2                                 0.0                      0.099814   \n",
       "3                                 0.0                      0.014030   \n",
       "4                                 0.0                      0.114602   \n",
       "...                               ...                           ...   \n",
       "3694                              0.0                      0.026971   \n",
       "3695                              0.0                      0.193759   \n",
       "3696                              0.0                      0.004529   \n",
       "3697                              0.0                      0.022318   \n",
       "3698                              0.0                      0.016455   \n",
       "\n",
       "      PurchaseBefore  Administrative_power  Administrative_Duration_power  \\\n",
       "0                0.0              0.620286                       0.719721   \n",
       "1                1.0              0.770103                       0.836327   \n",
       "2                1.0              0.364405                       0.575097   \n",
       "3                1.0              0.524931                       0.718558   \n",
       "4                1.0              0.951096                       0.868161   \n",
       "...              ...                   ...                            ...   \n",
       "3694             0.0              0.000000                       0.000000   \n",
       "3695             0.0              0.524931                       0.555893   \n",
       "3696             0.0              0.000000                       0.000000   \n",
       "3697             0.0              0.364405                       0.503372   \n",
       "3698             0.0              0.364405                       0.447062   \n",
       "\n",
       "      Informational_power  Informational_Duration_power  ProductRelated_power  \\\n",
       "0                0.000000                      0.000000              0.579808   \n",
       "1                0.984314                      0.997803              0.663175   \n",
       "2                0.000000                      0.000000              0.727630   \n",
       "3                0.000000                      0.000000              0.352696   \n",
       "4                0.999368                      0.999518              0.772445   \n",
       "...                   ...                           ...                   ...   \n",
       "3694             0.000000                      0.000000              0.377807   \n",
       "3695             0.984314                      0.993979              0.665014   \n",
       "3696             0.000000                      0.000000              0.352696   \n",
       "3697             0.000000                      0.000000              0.509593   \n",
       "3698             0.927297                      0.830828              0.582919   \n",
       "\n",
       "      ProductRelated_Duration_power  \n",
       "0                          0.372207  \n",
       "1                          0.474886  \n",
       "2                          0.550454  \n",
       "3                          0.316856  \n",
       "4                          0.571226  \n",
       "...                             ...  \n",
       "3694                       0.383260  \n",
       "3695                       0.656482  \n",
       "3696                       0.223326  \n",
       "3697                       0.362977  \n",
       "3698                       0.332142  \n",
       "\n",
       "[3699 rows x 30 columns]"
      ]
     },
     "execution_count": 591,
     "metadata": {},
     "output_type": "execute_result"
    }
   ],
   "source": [
    "X_test"
   ]
  },
  {
   "cell_type": "markdown",
   "metadata": {},
   "source": [
    "### Oversampling"
   ]
  },
  {
   "cell_type": "markdown",
   "metadata": {},
   "source": [
    "There are far less sessions that contain a purchase than those that don't.  To account for this, naive oversampling is used on the training set to have equal samples for each class."
   ]
  },
  {
   "cell_type": "code",
   "execution_count": 592,
   "metadata": {},
   "outputs": [],
   "source": [
    "oversampler = RandomOverSampler(sampling_strategy='minority', random_state=42)\n",
    "X_train, y_train = oversampler.fit_resample(X_train, y_train)"
   ]
  },
  {
   "cell_type": "markdown",
   "metadata": {},
   "source": [
    "Have gone from 8,631 training samples to 14,596.  There are now an equal number of each class (7298 for both)."
   ]
  },
  {
   "cell_type": "code",
   "execution_count": 593,
   "metadata": {},
   "outputs": [
    {
     "data": {
      "text/plain": [
       "0\n",
       "0    7298\n",
       "1    7298\n",
       "Name: count, dtype: int64"
      ]
     },
     "execution_count": 593,
     "metadata": {},
     "output_type": "execute_result"
    }
   ],
   "source": [
    "y_train_df = pd.DataFrame(y_train)\n",
    "y_train_df.value_counts()"
   ]
  },
  {
   "cell_type": "markdown",
   "metadata": {},
   "source": [
    "## Modeling and Analysis"
   ]
  },
  {
   "cell_type": "markdown",
   "metadata": {},
   "source": [
    "Set 1 = Regular"
   ]
  },
  {
   "cell_type": "code",
   "execution_count": 594,
   "metadata": {},
   "outputs": [
    {
     "data": {
      "text/html": [
       "<div>\n",
       "<style scoped>\n",
       "    .dataframe tbody tr th:only-of-type {\n",
       "        vertical-align: middle;\n",
       "    }\n",
       "\n",
       "    .dataframe tbody tr th {\n",
       "        vertical-align: top;\n",
       "    }\n",
       "\n",
       "    .dataframe thead th {\n",
       "        text-align: right;\n",
       "    }\n",
       "</style>\n",
       "<table border=\"1\" class=\"dataframe\">\n",
       "  <thead>\n",
       "    <tr style=\"text-align: right;\">\n",
       "      <th></th>\n",
       "      <th>Administrative</th>\n",
       "      <th>Administrative_Duration</th>\n",
       "      <th>Informational</th>\n",
       "      <th>Informational_Duration</th>\n",
       "      <th>ProductRelated</th>\n",
       "      <th>ProductRelated_Duration</th>\n",
       "      <th>ExitRates</th>\n",
       "      <th>SpecialDay</th>\n",
       "      <th>Month</th>\n",
       "      <th>VisitorType</th>\n",
       "      <th>Weekend</th>\n",
       "      <th>PurchaseBefore</th>\n",
       "    </tr>\n",
       "  </thead>\n",
       "  <tbody>\n",
       "    <tr>\n",
       "      <th>0</th>\n",
       "      <td>0.000000</td>\n",
       "      <td>0.000000</td>\n",
       "      <td>0.000000</td>\n",
       "      <td>0.000000</td>\n",
       "      <td>0.007092</td>\n",
       "      <td>0.001878</td>\n",
       "      <td>0.250000</td>\n",
       "      <td>0.0</td>\n",
       "      <td>0.111111</td>\n",
       "      <td>0.0</td>\n",
       "      <td>0.0</td>\n",
       "      <td>0.0</td>\n",
       "    </tr>\n",
       "    <tr>\n",
       "      <th>1</th>\n",
       "      <td>0.000000</td>\n",
       "      <td>0.000000</td>\n",
       "      <td>0.000000</td>\n",
       "      <td>0.000000</td>\n",
       "      <td>0.004255</td>\n",
       "      <td>0.004378</td>\n",
       "      <td>0.333333</td>\n",
       "      <td>0.0</td>\n",
       "      <td>0.555556</td>\n",
       "      <td>1.0</td>\n",
       "      <td>0.0</td>\n",
       "      <td>0.0</td>\n",
       "    </tr>\n",
       "    <tr>\n",
       "      <th>2</th>\n",
       "      <td>0.000000</td>\n",
       "      <td>0.000000</td>\n",
       "      <td>0.041667</td>\n",
       "      <td>0.060128</td>\n",
       "      <td>0.011348</td>\n",
       "      <td>0.010308</td>\n",
       "      <td>0.071429</td>\n",
       "      <td>0.0</td>\n",
       "      <td>0.555556</td>\n",
       "      <td>1.0</td>\n",
       "      <td>1.0</td>\n",
       "      <td>0.0</td>\n",
       "    </tr>\n",
       "    <tr>\n",
       "      <th>3</th>\n",
       "      <td>0.000000</td>\n",
       "      <td>0.000000</td>\n",
       "      <td>0.000000</td>\n",
       "      <td>0.000000</td>\n",
       "      <td>0.004255</td>\n",
       "      <td>0.000000</td>\n",
       "      <td>1.000000</td>\n",
       "      <td>0.0</td>\n",
       "      <td>0.555556</td>\n",
       "      <td>1.0</td>\n",
       "      <td>0.0</td>\n",
       "      <td>0.0</td>\n",
       "    </tr>\n",
       "    <tr>\n",
       "      <th>4</th>\n",
       "      <td>0.000000</td>\n",
       "      <td>0.000000</td>\n",
       "      <td>0.000000</td>\n",
       "      <td>0.000000</td>\n",
       "      <td>0.005674</td>\n",
       "      <td>0.000324</td>\n",
       "      <td>0.750000</td>\n",
       "      <td>0.0</td>\n",
       "      <td>0.555556</td>\n",
       "      <td>1.0</td>\n",
       "      <td>0.0</td>\n",
       "      <td>0.0</td>\n",
       "    </tr>\n",
       "    <tr>\n",
       "      <th>...</th>\n",
       "      <td>...</td>\n",
       "      <td>...</td>\n",
       "      <td>...</td>\n",
       "      <td>...</td>\n",
       "      <td>...</td>\n",
       "      <td>...</td>\n",
       "      <td>...</td>\n",
       "      <td>...</td>\n",
       "      <td>...</td>\n",
       "      <td>...</td>\n",
       "      <td>...</td>\n",
       "      <td>...</td>\n",
       "    </tr>\n",
       "    <tr>\n",
       "      <th>14591</th>\n",
       "      <td>0.111111</td>\n",
       "      <td>0.117405</td>\n",
       "      <td>0.041667</td>\n",
       "      <td>0.114700</td>\n",
       "      <td>0.075177</td>\n",
       "      <td>0.058495</td>\n",
       "      <td>0.053030</td>\n",
       "      <td>0.0</td>\n",
       "      <td>0.333333</td>\n",
       "      <td>1.0</td>\n",
       "      <td>0.0</td>\n",
       "      <td>1.0</td>\n",
       "    </tr>\n",
       "    <tr>\n",
       "      <th>14592</th>\n",
       "      <td>0.407407</td>\n",
       "      <td>0.283745</td>\n",
       "      <td>0.083333</td>\n",
       "      <td>0.097557</td>\n",
       "      <td>0.055319</td>\n",
       "      <td>0.023684</td>\n",
       "      <td>0.061806</td>\n",
       "      <td>0.0</td>\n",
       "      <td>0.666667</td>\n",
       "      <td>1.0</td>\n",
       "      <td>0.0</td>\n",
       "      <td>1.0</td>\n",
       "    </tr>\n",
       "    <tr>\n",
       "      <th>14593</th>\n",
       "      <td>0.000000</td>\n",
       "      <td>0.000000</td>\n",
       "      <td>0.083333</td>\n",
       "      <td>0.022093</td>\n",
       "      <td>0.083688</td>\n",
       "      <td>0.050851</td>\n",
       "      <td>0.153005</td>\n",
       "      <td>0.0</td>\n",
       "      <td>0.777778</td>\n",
       "      <td>1.0</td>\n",
       "      <td>0.0</td>\n",
       "      <td>0.0</td>\n",
       "    </tr>\n",
       "    <tr>\n",
       "      <th>14594</th>\n",
       "      <td>0.074074</td>\n",
       "      <td>0.010292</td>\n",
       "      <td>0.000000</td>\n",
       "      <td>0.000000</td>\n",
       "      <td>0.072340</td>\n",
       "      <td>0.059942</td>\n",
       "      <td>0.037173</td>\n",
       "      <td>0.0</td>\n",
       "      <td>0.777778</td>\n",
       "      <td>1.0</td>\n",
       "      <td>0.0</td>\n",
       "      <td>1.0</td>\n",
       "    </tr>\n",
       "    <tr>\n",
       "      <th>14595</th>\n",
       "      <td>0.296296</td>\n",
       "      <td>0.130013</td>\n",
       "      <td>0.250000</td>\n",
       "      <td>0.082882</td>\n",
       "      <td>0.032624</td>\n",
       "      <td>0.022235</td>\n",
       "      <td>0.083333</td>\n",
       "      <td>0.0</td>\n",
       "      <td>0.777778</td>\n",
       "      <td>1.0</td>\n",
       "      <td>1.0</td>\n",
       "      <td>1.0</td>\n",
       "    </tr>\n",
       "  </tbody>\n",
       "</table>\n",
       "<p>14596 rows × 12 columns</p>\n",
       "</div>"
      ],
      "text/plain": [
       "       Administrative  Administrative_Duration  Informational  \\\n",
       "0            0.000000                 0.000000       0.000000   \n",
       "1            0.000000                 0.000000       0.000000   \n",
       "2            0.000000                 0.000000       0.041667   \n",
       "3            0.000000                 0.000000       0.000000   \n",
       "4            0.000000                 0.000000       0.000000   \n",
       "...               ...                      ...            ...   \n",
       "14591        0.111111                 0.117405       0.041667   \n",
       "14592        0.407407                 0.283745       0.083333   \n",
       "14593        0.000000                 0.000000       0.083333   \n",
       "14594        0.074074                 0.010292       0.000000   \n",
       "14595        0.296296                 0.130013       0.250000   \n",
       "\n",
       "       Informational_Duration  ProductRelated  ProductRelated_Duration  \\\n",
       "0                    0.000000        0.007092                 0.001878   \n",
       "1                    0.000000        0.004255                 0.004378   \n",
       "2                    0.060128        0.011348                 0.010308   \n",
       "3                    0.000000        0.004255                 0.000000   \n",
       "4                    0.000000        0.005674                 0.000324   \n",
       "...                       ...             ...                      ...   \n",
       "14591                0.114700        0.075177                 0.058495   \n",
       "14592                0.097557        0.055319                 0.023684   \n",
       "14593                0.022093        0.083688                 0.050851   \n",
       "14594                0.000000        0.072340                 0.059942   \n",
       "14595                0.082882        0.032624                 0.022235   \n",
       "\n",
       "       ExitRates  SpecialDay     Month  VisitorType  Weekend  PurchaseBefore  \n",
       "0       0.250000         0.0  0.111111          0.0      0.0             0.0  \n",
       "1       0.333333         0.0  0.555556          1.0      0.0             0.0  \n",
       "2       0.071429         0.0  0.555556          1.0      1.0             0.0  \n",
       "3       1.000000         0.0  0.555556          1.0      0.0             0.0  \n",
       "4       0.750000         0.0  0.555556          1.0      0.0             0.0  \n",
       "...          ...         ...       ...          ...      ...             ...  \n",
       "14591   0.053030         0.0  0.333333          1.0      0.0             1.0  \n",
       "14592   0.061806         0.0  0.666667          1.0      0.0             1.0  \n",
       "14593   0.153005         0.0  0.777778          1.0      0.0             0.0  \n",
       "14594   0.037173         0.0  0.777778          1.0      0.0             1.0  \n",
       "14595   0.083333         0.0  0.777778          1.0      1.0             1.0  \n",
       "\n",
       "[14596 rows x 12 columns]"
      ]
     },
     "execution_count": 594,
     "metadata": {},
     "output_type": "execute_result"
    }
   ],
   "source": [
    "set_1_train = X_train[X_train.columns[~X_train.columns.isin(zero_columns + null_columns + power_columns)]]\n",
    "set_1_test = X_test[X_test.columns[~X_test.columns.isin(zero_columns + null_columns + power_columns)]]\n",
    "set_1_train"
   ]
  },
  {
   "cell_type": "markdown",
   "metadata": {},
   "source": [
    "Set 2 = Power Transformed"
   ]
  },
  {
   "cell_type": "code",
   "execution_count": 595,
   "metadata": {},
   "outputs": [
    {
     "data": {
      "text/html": [
       "<div>\n",
       "<style scoped>\n",
       "    .dataframe tbody tr th:only-of-type {\n",
       "        vertical-align: middle;\n",
       "    }\n",
       "\n",
       "    .dataframe tbody tr th {\n",
       "        vertical-align: top;\n",
       "    }\n",
       "\n",
       "    .dataframe thead th {\n",
       "        text-align: right;\n",
       "    }\n",
       "</style>\n",
       "<table border=\"1\" class=\"dataframe\">\n",
       "  <thead>\n",
       "    <tr style=\"text-align: right;\">\n",
       "      <th></th>\n",
       "      <th>ExitRates</th>\n",
       "      <th>SpecialDay</th>\n",
       "      <th>Month</th>\n",
       "      <th>VisitorType</th>\n",
       "      <th>Weekend</th>\n",
       "      <th>PurchaseBefore</th>\n",
       "      <th>Administrative_power</th>\n",
       "      <th>Administrative_Duration_power</th>\n",
       "      <th>Informational_power</th>\n",
       "      <th>Informational_Duration_power</th>\n",
       "      <th>ProductRelated_power</th>\n",
       "      <th>ProductRelated_Duration_power</th>\n",
       "    </tr>\n",
       "  </thead>\n",
       "  <tbody>\n",
       "    <tr>\n",
       "      <th>0</th>\n",
       "      <td>0.250000</td>\n",
       "      <td>0.0</td>\n",
       "      <td>0.111111</td>\n",
       "      <td>0.0</td>\n",
       "      <td>0.0</td>\n",
       "      <td>0.0</td>\n",
       "      <td>0.000000</td>\n",
       "      <td>0.000000</td>\n",
       "      <td>0.000000</td>\n",
       "      <td>0.000000</td>\n",
       "      <td>0.262180</td>\n",
       "      <td>0.165322</td>\n",
       "    </tr>\n",
       "    <tr>\n",
       "      <th>1</th>\n",
       "      <td>0.333333</td>\n",
       "      <td>0.0</td>\n",
       "      <td>0.555556</td>\n",
       "      <td>1.0</td>\n",
       "      <td>0.0</td>\n",
       "      <td>0.0</td>\n",
       "      <td>0.000000</td>\n",
       "      <td>0.000000</td>\n",
       "      <td>0.000000</td>\n",
       "      <td>0.000000</td>\n",
       "      <td>0.202150</td>\n",
       "      <td>0.220515</td>\n",
       "    </tr>\n",
       "    <tr>\n",
       "      <th>2</th>\n",
       "      <td>0.071429</td>\n",
       "      <td>0.0</td>\n",
       "      <td>0.555556</td>\n",
       "      <td>1.0</td>\n",
       "      <td>1.0</td>\n",
       "      <td>0.0</td>\n",
       "      <td>0.000000</td>\n",
       "      <td>0.000000</td>\n",
       "      <td>0.927297</td>\n",
       "      <td>0.995670</td>\n",
       "      <td>0.322626</td>\n",
       "      <td>0.288665</td>\n",
       "    </tr>\n",
       "    <tr>\n",
       "      <th>3</th>\n",
       "      <td>1.000000</td>\n",
       "      <td>0.0</td>\n",
       "      <td>0.555556</td>\n",
       "      <td>1.0</td>\n",
       "      <td>0.0</td>\n",
       "      <td>0.0</td>\n",
       "      <td>0.000000</td>\n",
       "      <td>0.000000</td>\n",
       "      <td>0.000000</td>\n",
       "      <td>0.000000</td>\n",
       "      <td>0.202150</td>\n",
       "      <td>0.000000</td>\n",
       "    </tr>\n",
       "    <tr>\n",
       "      <th>4</th>\n",
       "      <td>0.750000</td>\n",
       "      <td>0.0</td>\n",
       "      <td>0.555556</td>\n",
       "      <td>1.0</td>\n",
       "      <td>0.0</td>\n",
       "      <td>0.0</td>\n",
       "      <td>0.000000</td>\n",
       "      <td>0.000000</td>\n",
       "      <td>0.000000</td>\n",
       "      <td>0.000000</td>\n",
       "      <td>0.235136</td>\n",
       "      <td>0.081404</td>\n",
       "    </tr>\n",
       "    <tr>\n",
       "      <th>...</th>\n",
       "      <td>...</td>\n",
       "      <td>...</td>\n",
       "      <td>...</td>\n",
       "      <td>...</td>\n",
       "      <td>...</td>\n",
       "      <td>...</td>\n",
       "      <td>...</td>\n",
       "      <td>...</td>\n",
       "      <td>...</td>\n",
       "      <td>...</td>\n",
       "      <td>...</td>\n",
       "      <td>...</td>\n",
       "    </tr>\n",
       "    <tr>\n",
       "      <th>14591</th>\n",
       "      <td>0.053030</td>\n",
       "      <td>0.0</td>\n",
       "      <td>0.333333</td>\n",
       "      <td>1.0</td>\n",
       "      <td>0.0</td>\n",
       "      <td>1.0</td>\n",
       "      <td>0.620286</td>\n",
       "      <td>0.804949</td>\n",
       "      <td>0.927297</td>\n",
       "      <td>0.997972</td>\n",
       "      <td>0.594780</td>\n",
       "      <td>0.476000</td>\n",
       "    </tr>\n",
       "    <tr>\n",
       "      <th>14592</th>\n",
       "      <td>0.061806</td>\n",
       "      <td>0.0</td>\n",
       "      <td>0.666667</td>\n",
       "      <td>1.0</td>\n",
       "      <td>0.0</td>\n",
       "      <td>1.0</td>\n",
       "      <td>0.879113</td>\n",
       "      <td>0.890536</td>\n",
       "      <td>0.984314</td>\n",
       "      <td>0.997538</td>\n",
       "      <td>0.548617</td>\n",
       "      <td>0.369144</td>\n",
       "    </tr>\n",
       "    <tr>\n",
       "      <th>14593</th>\n",
       "      <td>0.153005</td>\n",
       "      <td>0.0</td>\n",
       "      <td>0.777778</td>\n",
       "      <td>1.0</td>\n",
       "      <td>0.0</td>\n",
       "      <td>0.0</td>\n",
       "      <td>0.000000</td>\n",
       "      <td>0.000000</td>\n",
       "      <td>0.984314</td>\n",
       "      <td>0.986707</td>\n",
       "      <td>0.611043</td>\n",
       "      <td>0.457959</td>\n",
       "    </tr>\n",
       "    <tr>\n",
       "      <th>14594</th>\n",
       "      <td>0.037173</td>\n",
       "      <td>0.0</td>\n",
       "      <td>0.777778</td>\n",
       "      <td>1.0</td>\n",
       "      <td>0.0</td>\n",
       "      <td>1.0</td>\n",
       "      <td>0.524931</td>\n",
       "      <td>0.527244</td>\n",
       "      <td>0.000000</td>\n",
       "      <td>0.000000</td>\n",
       "      <td>0.588962</td>\n",
       "      <td>0.479207</td>\n",
       "    </tr>\n",
       "    <tr>\n",
       "      <th>14595</th>\n",
       "      <td>0.083333</td>\n",
       "      <td>0.0</td>\n",
       "      <td>0.777778</td>\n",
       "      <td>1.0</td>\n",
       "      <td>1.0</td>\n",
       "      <td>1.0</td>\n",
       "      <td>0.824665</td>\n",
       "      <td>0.815239</td>\n",
       "      <td>0.999368</td>\n",
       "      <td>0.997015</td>\n",
       "      <td>0.470579</td>\n",
       "      <td>0.362479</td>\n",
       "    </tr>\n",
       "  </tbody>\n",
       "</table>\n",
       "<p>14596 rows × 12 columns</p>\n",
       "</div>"
      ],
      "text/plain": [
       "       ExitRates  SpecialDay     Month  VisitorType  Weekend  PurchaseBefore  \\\n",
       "0       0.250000         0.0  0.111111          0.0      0.0             0.0   \n",
       "1       0.333333         0.0  0.555556          1.0      0.0             0.0   \n",
       "2       0.071429         0.0  0.555556          1.0      1.0             0.0   \n",
       "3       1.000000         0.0  0.555556          1.0      0.0             0.0   \n",
       "4       0.750000         0.0  0.555556          1.0      0.0             0.0   \n",
       "...          ...         ...       ...          ...      ...             ...   \n",
       "14591   0.053030         0.0  0.333333          1.0      0.0             1.0   \n",
       "14592   0.061806         0.0  0.666667          1.0      0.0             1.0   \n",
       "14593   0.153005         0.0  0.777778          1.0      0.0             0.0   \n",
       "14594   0.037173         0.0  0.777778          1.0      0.0             1.0   \n",
       "14595   0.083333         0.0  0.777778          1.0      1.0             1.0   \n",
       "\n",
       "       Administrative_power  Administrative_Duration_power  \\\n",
       "0                  0.000000                       0.000000   \n",
       "1                  0.000000                       0.000000   \n",
       "2                  0.000000                       0.000000   \n",
       "3                  0.000000                       0.000000   \n",
       "4                  0.000000                       0.000000   \n",
       "...                     ...                            ...   \n",
       "14591              0.620286                       0.804949   \n",
       "14592              0.879113                       0.890536   \n",
       "14593              0.000000                       0.000000   \n",
       "14594              0.524931                       0.527244   \n",
       "14595              0.824665                       0.815239   \n",
       "\n",
       "       Informational_power  Informational_Duration_power  \\\n",
       "0                 0.000000                      0.000000   \n",
       "1                 0.000000                      0.000000   \n",
       "2                 0.927297                      0.995670   \n",
       "3                 0.000000                      0.000000   \n",
       "4                 0.000000                      0.000000   \n",
       "...                    ...                           ...   \n",
       "14591             0.927297                      0.997972   \n",
       "14592             0.984314                      0.997538   \n",
       "14593             0.984314                      0.986707   \n",
       "14594             0.000000                      0.000000   \n",
       "14595             0.999368                      0.997015   \n",
       "\n",
       "       ProductRelated_power  ProductRelated_Duration_power  \n",
       "0                  0.262180                       0.165322  \n",
       "1                  0.202150                       0.220515  \n",
       "2                  0.322626                       0.288665  \n",
       "3                  0.202150                       0.000000  \n",
       "4                  0.235136                       0.081404  \n",
       "...                     ...                            ...  \n",
       "14591              0.594780                       0.476000  \n",
       "14592              0.548617                       0.369144  \n",
       "14593              0.611043                       0.457959  \n",
       "14594              0.588962                       0.479207  \n",
       "14595              0.470579                       0.362479  \n",
       "\n",
       "[14596 rows x 12 columns]"
      ]
     },
     "execution_count": 595,
     "metadata": {},
     "output_type": "execute_result"
    }
   ],
   "source": [
    "set_2_train = X_train[X_train.columns[~X_train.columns.isin(skewed_columns + zero_columns + null_columns)]]\n",
    "set_2_test = X_test[X_test.columns[~X_test.columns.isin(skewed_columns + zero_columns + null_columns)]]\n",
    "set_2_train"
   ]
  },
  {
   "cell_type": "markdown",
   "metadata": {},
   "source": [
    "Set 3 = Split"
   ]
  },
  {
   "cell_type": "code",
   "execution_count": 596,
   "metadata": {},
   "outputs": [
    {
     "data": {
      "text/html": [
       "<div>\n",
       "<style scoped>\n",
       "    .dataframe tbody tr th:only-of-type {\n",
       "        vertical-align: middle;\n",
       "    }\n",
       "\n",
       "    .dataframe tbody tr th {\n",
       "        vertical-align: top;\n",
       "    }\n",
       "\n",
       "    .dataframe thead th {\n",
       "        text-align: right;\n",
       "    }\n",
       "</style>\n",
       "<table border=\"1\" class=\"dataframe\">\n",
       "  <thead>\n",
       "    <tr style=\"text-align: right;\">\n",
       "      <th></th>\n",
       "      <th>ExitRates</th>\n",
       "      <th>SpecialDay</th>\n",
       "      <th>Month</th>\n",
       "      <th>VisitorType</th>\n",
       "      <th>Weekend</th>\n",
       "      <th>Administrative_is_zero</th>\n",
       "      <th>Administrative_null</th>\n",
       "      <th>Administrative_Duration_is_zero</th>\n",
       "      <th>Administrative_Duration_null</th>\n",
       "      <th>Informational_is_zero</th>\n",
       "      <th>Informational_null</th>\n",
       "      <th>Informational_Duration_is_zero</th>\n",
       "      <th>Informational_Duration_null</th>\n",
       "      <th>ProductRelated_is_zero</th>\n",
       "      <th>ProductRelated_null</th>\n",
       "      <th>ProductRelated_Duration_is_zero</th>\n",
       "      <th>ProductRelated_Duration_null</th>\n",
       "      <th>PurchaseBefore</th>\n",
       "    </tr>\n",
       "  </thead>\n",
       "  <tbody>\n",
       "    <tr>\n",
       "      <th>0</th>\n",
       "      <td>0.250000</td>\n",
       "      <td>0.0</td>\n",
       "      <td>0.111111</td>\n",
       "      <td>0.0</td>\n",
       "      <td>0.0</td>\n",
       "      <td>1.0</td>\n",
       "      <td>0.127548</td>\n",
       "      <td>1.0</td>\n",
       "      <td>0.056235</td>\n",
       "      <td>1.0</td>\n",
       "      <td>0.060054</td>\n",
       "      <td>1.0</td>\n",
       "      <td>0.079647</td>\n",
       "      <td>0.0</td>\n",
       "      <td>0.005682</td>\n",
       "      <td>0.0</td>\n",
       "      <td>0.001855</td>\n",
       "      <td>0.0</td>\n",
       "    </tr>\n",
       "    <tr>\n",
       "      <th>1</th>\n",
       "      <td>0.333333</td>\n",
       "      <td>0.0</td>\n",
       "      <td>0.555556</td>\n",
       "      <td>1.0</td>\n",
       "      <td>0.0</td>\n",
       "      <td>1.0</td>\n",
       "      <td>0.127548</td>\n",
       "      <td>1.0</td>\n",
       "      <td>0.056235</td>\n",
       "      <td>1.0</td>\n",
       "      <td>0.060054</td>\n",
       "      <td>1.0</td>\n",
       "      <td>0.079647</td>\n",
       "      <td>0.0</td>\n",
       "      <td>0.002841</td>\n",
       "      <td>0.0</td>\n",
       "      <td>0.004355</td>\n",
       "      <td>0.0</td>\n",
       "    </tr>\n",
       "    <tr>\n",
       "      <th>2</th>\n",
       "      <td>0.071429</td>\n",
       "      <td>0.0</td>\n",
       "      <td>0.555556</td>\n",
       "      <td>1.0</td>\n",
       "      <td>1.0</td>\n",
       "      <td>1.0</td>\n",
       "      <td>0.127548</td>\n",
       "      <td>1.0</td>\n",
       "      <td>0.056235</td>\n",
       "      <td>0.0</td>\n",
       "      <td>0.000000</td>\n",
       "      <td>0.0</td>\n",
       "      <td>0.059700</td>\n",
       "      <td>0.0</td>\n",
       "      <td>0.009943</td>\n",
       "      <td>0.0</td>\n",
       "      <td>0.010285</td>\n",
       "      <td>0.0</td>\n",
       "    </tr>\n",
       "    <tr>\n",
       "      <th>3</th>\n",
       "      <td>1.000000</td>\n",
       "      <td>0.0</td>\n",
       "      <td>0.555556</td>\n",
       "      <td>1.0</td>\n",
       "      <td>0.0</td>\n",
       "      <td>1.0</td>\n",
       "      <td>0.127548</td>\n",
       "      <td>1.0</td>\n",
       "      <td>0.056235</td>\n",
       "      <td>1.0</td>\n",
       "      <td>0.060054</td>\n",
       "      <td>1.0</td>\n",
       "      <td>0.079647</td>\n",
       "      <td>0.0</td>\n",
       "      <td>0.002841</td>\n",
       "      <td>1.0</td>\n",
       "      <td>0.029363</td>\n",
       "      <td>0.0</td>\n",
       "    </tr>\n",
       "    <tr>\n",
       "      <th>4</th>\n",
       "      <td>0.750000</td>\n",
       "      <td>0.0</td>\n",
       "      <td>0.555556</td>\n",
       "      <td>1.0</td>\n",
       "      <td>0.0</td>\n",
       "      <td>1.0</td>\n",
       "      <td>0.127548</td>\n",
       "      <td>1.0</td>\n",
       "      <td>0.056235</td>\n",
       "      <td>1.0</td>\n",
       "      <td>0.060054</td>\n",
       "      <td>1.0</td>\n",
       "      <td>0.079647</td>\n",
       "      <td>0.0</td>\n",
       "      <td>0.004261</td>\n",
       "      <td>0.0</td>\n",
       "      <td>0.000301</td>\n",
       "      <td>0.0</td>\n",
       "    </tr>\n",
       "    <tr>\n",
       "      <th>...</th>\n",
       "      <td>...</td>\n",
       "      <td>...</td>\n",
       "      <td>...</td>\n",
       "      <td>...</td>\n",
       "      <td>...</td>\n",
       "      <td>...</td>\n",
       "      <td>...</td>\n",
       "      <td>...</td>\n",
       "      <td>...</td>\n",
       "      <td>...</td>\n",
       "      <td>...</td>\n",
       "      <td>...</td>\n",
       "      <td>...</td>\n",
       "      <td>...</td>\n",
       "      <td>...</td>\n",
       "      <td>...</td>\n",
       "      <td>...</td>\n",
       "      <td>...</td>\n",
       "    </tr>\n",
       "    <tr>\n",
       "      <th>14591</th>\n",
       "      <td>0.053030</td>\n",
       "      <td>0.0</td>\n",
       "      <td>0.333333</td>\n",
       "      <td>1.0</td>\n",
       "      <td>0.0</td>\n",
       "      <td>0.0</td>\n",
       "      <td>0.076923</td>\n",
       "      <td>0.0</td>\n",
       "      <td>0.116972</td>\n",
       "      <td>0.0</td>\n",
       "      <td>0.000000</td>\n",
       "      <td>0.0</td>\n",
       "      <td>0.114296</td>\n",
       "      <td>0.0</td>\n",
       "      <td>0.073864</td>\n",
       "      <td>0.0</td>\n",
       "      <td>0.058473</td>\n",
       "      <td>1.0</td>\n",
       "    </tr>\n",
       "    <tr>\n",
       "      <th>14592</th>\n",
       "      <td>0.061806</td>\n",
       "      <td>0.0</td>\n",
       "      <td>0.666667</td>\n",
       "      <td>1.0</td>\n",
       "      <td>0.0</td>\n",
       "      <td>0.0</td>\n",
       "      <td>0.384615</td>\n",
       "      <td>0.0</td>\n",
       "      <td>0.283394</td>\n",
       "      <td>0.0</td>\n",
       "      <td>0.043478</td>\n",
       "      <td>0.0</td>\n",
       "      <td>0.097146</td>\n",
       "      <td>0.0</td>\n",
       "      <td>0.053977</td>\n",
       "      <td>0.0</td>\n",
       "      <td>0.023662</td>\n",
       "      <td>1.0</td>\n",
       "    </tr>\n",
       "    <tr>\n",
       "      <th>14593</th>\n",
       "      <td>0.153005</td>\n",
       "      <td>0.0</td>\n",
       "      <td>0.777778</td>\n",
       "      <td>1.0</td>\n",
       "      <td>0.0</td>\n",
       "      <td>1.0</td>\n",
       "      <td>0.127548</td>\n",
       "      <td>1.0</td>\n",
       "      <td>0.056235</td>\n",
       "      <td>0.0</td>\n",
       "      <td>0.043478</td>\n",
       "      <td>0.0</td>\n",
       "      <td>0.021647</td>\n",
       "      <td>0.0</td>\n",
       "      <td>0.082386</td>\n",
       "      <td>0.0</td>\n",
       "      <td>0.050829</td>\n",
       "      <td>0.0</td>\n",
       "    </tr>\n",
       "    <tr>\n",
       "      <th>14594</th>\n",
       "      <td>0.037173</td>\n",
       "      <td>0.0</td>\n",
       "      <td>0.777778</td>\n",
       "      <td>1.0</td>\n",
       "      <td>0.0</td>\n",
       "      <td>0.0</td>\n",
       "      <td>0.038462</td>\n",
       "      <td>0.0</td>\n",
       "      <td>0.009807</td>\n",
       "      <td>1.0</td>\n",
       "      <td>0.060054</td>\n",
       "      <td>1.0</td>\n",
       "      <td>0.079647</td>\n",
       "      <td>0.0</td>\n",
       "      <td>0.071023</td>\n",
       "      <td>0.0</td>\n",
       "      <td>0.059920</td>\n",
       "      <td>1.0</td>\n",
       "    </tr>\n",
       "    <tr>\n",
       "      <th>14595</th>\n",
       "      <td>0.083333</td>\n",
       "      <td>0.0</td>\n",
       "      <td>0.777778</td>\n",
       "      <td>1.0</td>\n",
       "      <td>1.0</td>\n",
       "      <td>0.0</td>\n",
       "      <td>0.269231</td>\n",
       "      <td>0.0</td>\n",
       "      <td>0.129586</td>\n",
       "      <td>0.0</td>\n",
       "      <td>0.217391</td>\n",
       "      <td>0.0</td>\n",
       "      <td>0.082464</td>\n",
       "      <td>0.0</td>\n",
       "      <td>0.031250</td>\n",
       "      <td>0.0</td>\n",
       "      <td>0.022212</td>\n",
       "      <td>1.0</td>\n",
       "    </tr>\n",
       "  </tbody>\n",
       "</table>\n",
       "<p>14596 rows × 18 columns</p>\n",
       "</div>"
      ],
      "text/plain": [
       "       ExitRates  SpecialDay     Month  VisitorType  Weekend  \\\n",
       "0       0.250000         0.0  0.111111          0.0      0.0   \n",
       "1       0.333333         0.0  0.555556          1.0      0.0   \n",
       "2       0.071429         0.0  0.555556          1.0      1.0   \n",
       "3       1.000000         0.0  0.555556          1.0      0.0   \n",
       "4       0.750000         0.0  0.555556          1.0      0.0   \n",
       "...          ...         ...       ...          ...      ...   \n",
       "14591   0.053030         0.0  0.333333          1.0      0.0   \n",
       "14592   0.061806         0.0  0.666667          1.0      0.0   \n",
       "14593   0.153005         0.0  0.777778          1.0      0.0   \n",
       "14594   0.037173         0.0  0.777778          1.0      0.0   \n",
       "14595   0.083333         0.0  0.777778          1.0      1.0   \n",
       "\n",
       "       Administrative_is_zero  Administrative_null  \\\n",
       "0                         1.0             0.127548   \n",
       "1                         1.0             0.127548   \n",
       "2                         1.0             0.127548   \n",
       "3                         1.0             0.127548   \n",
       "4                         1.0             0.127548   \n",
       "...                       ...                  ...   \n",
       "14591                     0.0             0.076923   \n",
       "14592                     0.0             0.384615   \n",
       "14593                     1.0             0.127548   \n",
       "14594                     0.0             0.038462   \n",
       "14595                     0.0             0.269231   \n",
       "\n",
       "       Administrative_Duration_is_zero  Administrative_Duration_null  \\\n",
       "0                                  1.0                      0.056235   \n",
       "1                                  1.0                      0.056235   \n",
       "2                                  1.0                      0.056235   \n",
       "3                                  1.0                      0.056235   \n",
       "4                                  1.0                      0.056235   \n",
       "...                                ...                           ...   \n",
       "14591                              0.0                      0.116972   \n",
       "14592                              0.0                      0.283394   \n",
       "14593                              1.0                      0.056235   \n",
       "14594                              0.0                      0.009807   \n",
       "14595                              0.0                      0.129586   \n",
       "\n",
       "       Informational_is_zero  Informational_null  \\\n",
       "0                        1.0            0.060054   \n",
       "1                        1.0            0.060054   \n",
       "2                        0.0            0.000000   \n",
       "3                        1.0            0.060054   \n",
       "4                        1.0            0.060054   \n",
       "...                      ...                 ...   \n",
       "14591                    0.0            0.000000   \n",
       "14592                    0.0            0.043478   \n",
       "14593                    0.0            0.043478   \n",
       "14594                    1.0            0.060054   \n",
       "14595                    0.0            0.217391   \n",
       "\n",
       "       Informational_Duration_is_zero  Informational_Duration_null  \\\n",
       "0                                 1.0                     0.079647   \n",
       "1                                 1.0                     0.079647   \n",
       "2                                 0.0                     0.059700   \n",
       "3                                 1.0                     0.079647   \n",
       "4                                 1.0                     0.079647   \n",
       "...                               ...                          ...   \n",
       "14591                             0.0                     0.114296   \n",
       "14592                             0.0                     0.097146   \n",
       "14593                             0.0                     0.021647   \n",
       "14594                             1.0                     0.079647   \n",
       "14595                             0.0                     0.082464   \n",
       "\n",
       "       ProductRelated_is_zero  ProductRelated_null  \\\n",
       "0                         0.0             0.005682   \n",
       "1                         0.0             0.002841   \n",
       "2                         0.0             0.009943   \n",
       "3                         0.0             0.002841   \n",
       "4                         0.0             0.004261   \n",
       "...                       ...                  ...   \n",
       "14591                     0.0             0.073864   \n",
       "14592                     0.0             0.053977   \n",
       "14593                     0.0             0.082386   \n",
       "14594                     0.0             0.071023   \n",
       "14595                     0.0             0.031250   \n",
       "\n",
       "       ProductRelated_Duration_is_zero  ProductRelated_Duration_null  \\\n",
       "0                                  0.0                      0.001855   \n",
       "1                                  0.0                      0.004355   \n",
       "2                                  0.0                      0.010285   \n",
       "3                                  1.0                      0.029363   \n",
       "4                                  0.0                      0.000301   \n",
       "...                                ...                           ...   \n",
       "14591                              0.0                      0.058473   \n",
       "14592                              0.0                      0.023662   \n",
       "14593                              0.0                      0.050829   \n",
       "14594                              0.0                      0.059920   \n",
       "14595                              0.0                      0.022212   \n",
       "\n",
       "       PurchaseBefore  \n",
       "0                 0.0  \n",
       "1                 0.0  \n",
       "2                 0.0  \n",
       "3                 0.0  \n",
       "4                 0.0  \n",
       "...               ...  \n",
       "14591             1.0  \n",
       "14592             1.0  \n",
       "14593             0.0  \n",
       "14594             1.0  \n",
       "14595             1.0  \n",
       "\n",
       "[14596 rows x 18 columns]"
      ]
     },
     "execution_count": 596,
     "metadata": {},
     "output_type": "execute_result"
    }
   ],
   "source": [
    "set_3_train = X_train[X_train.columns[~X_train.columns.isin(skewed_columns + power_columns)]]\n",
    "set_3_test = X_test[X_test.columns[~X_test.columns.isin(skewed_columns + power_columns)]]\n",
    "set_3_train"
   ]
  },
  {
   "cell_type": "markdown",
   "metadata": {},
   "source": [
    "### Model 1 - Logistic Regression"
   ]
  },
  {
   "cell_type": "markdown",
   "metadata": {},
   "source": [
    "### Model 2 - Decision Tree"
   ]
  }
 ],
 "metadata": {
  "kernelspec": {
   "display_name": ".venv",
   "language": "python",
   "name": "python3"
  },
  "language_info": {
   "codemirror_mode": {
    "name": "ipython",
    "version": 3
   },
   "file_extension": ".py",
   "mimetype": "text/x-python",
   "name": "python",
   "nbconvert_exporter": "python",
   "pygments_lexer": "ipython3",
   "version": "3.11.5"
  }
 },
 "nbformat": 4,
 "nbformat_minor": 2
}
